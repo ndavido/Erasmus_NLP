{
  "nbformat": 4,
  "nbformat_minor": 0,
  "metadata": {
    "colab": {
      "provenance": []
    },
    "kernelspec": {
      "name": "python3",
      "display_name": "Python 3"
    },
    "language_info": {
      "name": "python"
    }
  },
  "cells": [
    {
      "cell_type": "markdown",
      "source": [
        "# Course: Natural Language Processing\n",
        "\n",
        "## Warmup exercise: Regular Expressions\n",
        "\n",
        "**Author:** Andrés Felipe Zapata Palacio"
      ],
      "metadata": {
        "id": "yf5J0mS9a4ih"
      }
    },
    {
      "cell_type": "code",
      "execution_count": null,
      "metadata": {
        "id": "oyQL-gURxfAK"
      },
      "outputs": [],
      "source": [
        "import re"
      ]
    },
    {
      "cell_type": "markdown",
      "source": [
        "## A. Control Characters\n",
        "\n",
        "The control characters are special characters that are used in the regular expressions to define specific rules, such as specifying the beginning of the String or Negating a rule."
      ],
      "metadata": {
        "id": "xd4NQwQZ3IP4"
      }
    },
    {
      "cell_type": "markdown",
      "source": [
        "### 1. End of the String\n",
        "\n",
        "**Task:** Search all the words that end with **'ing'**.\n",
        "\n",
        "🗸 Playing , Ring  \n",
        "X  Ingrid , Linguee"
      ],
      "metadata": {
        "id": "autW_c6Oxpj0"
      }
    },
    {
      "cell_type": "code",
      "source": [
        "### Change the search pattern ###\n",
        "pattern = 'WRITE YOUR PATTERN HERE'\n",
        "#################################\n",
        "\n",
        "testWords = ['playing','ring','ingrid','linguee']\n",
        "wordsThatMatch = [ word for word in testWords if re.search(pattern, word)]\n",
        "print('The words that matched the pattern are -> ',wordsThatMatch)"
      ],
      "metadata": {
        "colab": {
          "base_uri": "https://localhost:8080/"
        },
        "id": "HdMq8-UQxkkc",
        "outputId": "5d7fca75-f11b-42e7-d453-8d5a7e06db18"
      },
      "execution_count": null,
      "outputs": [
        {
          "output_type": "stream",
          "name": "stdout",
          "text": [
            "The words that matched the pattern are ->  []\n"
          ]
        }
      ]
    },
    {
      "cell_type": "markdown",
      "source": [
        "### 2. Beginning of the String\n",
        "\n",
        "**Task:** Search all the words that start with **'ing'**.\n",
        "\n",
        "🗸 Ingrid , Ingeniero  \n",
        "X  Playing , Ring , Linguee"
      ],
      "metadata": {
        "id": "80MbEpxnyoOm"
      }
    },
    {
      "cell_type": "code",
      "source": [
        "### Change the search pattern ###\n",
        "pattern = 'WRITE YOUR PATTERN HERE'\n",
        "#################################\n",
        "\n",
        "testWords = ['playing','ring','ingrid','linguee','ingeniero']\n",
        "wordsThatMatch = [ word for word in testWords if re.search(pattern, word)]\n",
        "print('The words that matched the pattern are -> ',wordsThatMatch)"
      ],
      "metadata": {
        "colab": {
          "base_uri": "https://localhost:8080/"
        },
        "id": "EcyFLoeUyTDv",
        "outputId": "67fe45ce-9c66-4093-82da-b0c9f09f405e"
      },
      "execution_count": null,
      "outputs": [
        {
          "output_type": "stream",
          "name": "stdout",
          "text": [
            "The words that matched the pattern are ->  []\n"
          ]
        }
      ]
    },
    {
      "cell_type": "markdown",
      "source": [
        "### 3. Escaping Special Characters\n",
        "\n",
        "**Task:** Search all the words that contain **dolar character '$'**.\n",
        "\n",
        "🗸 a\\$o\\$a , Some$Thing  \n",
        "X  Playing , Ring , Linguee"
      ],
      "metadata": {
        "id": "xMpW_ueA37YZ"
      }
    },
    {
      "cell_type": "code",
      "source": [
        "### Change the search pattern ###\n",
        "pattern = 'WRITE YOUR PATTERN HERE'\n",
        "#################################\n",
        "\n",
        "testWords = ['playing','ring','a$0$a','linguee','some$thing']\n",
        "wordsThatMatch = [ word for word in testWords if re.search(pattern, word)]\n",
        "print('The words that matched the pattern are -> ',wordsThatMatch)"
      ],
      "metadata": {
        "colab": {
          "base_uri": "https://localhost:8080/"
        },
        "id": "HcaHF5EE4X0t",
        "outputId": "4ac2201a-606b-47a9-d7ae-e872d60601f5"
      },
      "execution_count": null,
      "outputs": [
        {
          "output_type": "stream",
          "name": "stdout",
          "text": [
            "The words that matched the pattern are ->  []\n"
          ]
        }
      ]
    },
    {
      "cell_type": "markdown",
      "source": [
        "## B. Operators"
      ],
      "metadata": {
        "id": "9nBu44s34xFM"
      }
    },
    {
      "cell_type": "markdown",
      "source": [
        "### 1. **OR** Operator\n",
        "\n",
        "**Task:** Get all the words that contain letter **x** or letter **y**\n",
        "\n",
        "🗸 yahoo , Playing , Oxxo   \n",
        "X  Ring , Zip , Linguee"
      ],
      "metadata": {
        "id": "NRXL8gBy4zCm"
      }
    },
    {
      "cell_type": "code",
      "source": [
        "### Change the search pattern ###\n",
        "pattern = 'WRITE YOUR PATTERN HERE'\n",
        "#################################\n",
        "\n",
        "testWords = ['playing','ring','zip','linguee','yahoo','oxxo']\n",
        "wordsThatMatch = [ word for word in testWords if re.search(pattern, word)]\n",
        "print('The words that matched the pattern are -> ',wordsThatMatch)"
      ],
      "metadata": {
        "colab": {
          "base_uri": "https://localhost:8080/"
        },
        "id": "D1dUFKoF5Jhv",
        "outputId": "dd807d28-df07-4423-beb7-69198ce4f94c"
      },
      "execution_count": null,
      "outputs": [
        {
          "output_type": "stream",
          "name": "stdout",
          "text": [
            "The words that matched the pattern are ->  ['playing', 'yahoo', 'oxxo']\n"
          ]
        }
      ]
    },
    {
      "cell_type": "markdown",
      "source": [
        "## C. Ranges"
      ],
      "metadata": {
        "id": "1d0CW7FK3Am5"
      }
    },
    {
      "cell_type": "markdown",
      "source": [
        "### 1. Search all the words that contain one or more **numbers**.\n",
        "\n",
        "Are you able to see the hidden message?\n",
        "\n",
        "🗸 7H15 , PR0V3    \n",
        "X  JusT , LiKe"
      ],
      "metadata": {
        "id": "0YiLjDqszOnW"
      }
    },
    {
      "cell_type": "code",
      "source": [
        "### Change the search pattern ###\n",
        "pattern = 'WRITE YOUR PATTERN HERE'\n",
        "#################################\n",
        "\n",
        "testWords = ['JusT','7H15','LiKe','M3554G3','AnOthEr','53RV35','ExAmPlE','7O',\n",
        "             'fOr','PR0V3','iNtErEsTing','H0W','nlp','0UR','applicaTIONs',\n",
        "             'M1ND5','XD','C4N','...','D0','4M4Z1NG','7H1NG5!']\n",
        "\n",
        "wordsThatMatch = [ word for word in testWords if re.search(pattern, word)]\n",
        "print('Did you get the hidden message? -> ')\n",
        "for w in wordsThatMatch: print(w, end=' ')"
      ],
      "metadata": {
        "colab": {
          "base_uri": "https://localhost:8080/"
        },
        "id": "h92nEkqryuXw",
        "outputId": "8cbc9b3f-cdb2-4a08-aa1c-50d54a6d1edb"
      },
      "execution_count": null,
      "outputs": [
        {
          "output_type": "stream",
          "name": "stdout",
          "text": [
            "Did you get the hidden message? -> \n"
          ]
        }
      ]
    },
    {
      "cell_type": "code",
      "source": [],
      "metadata": {
        "id": "sXaSHKDNwcDl"
      },
      "execution_count": null,
      "outputs": []
    }
  ]
}