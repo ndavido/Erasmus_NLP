{
  "nbformat": 4,
  "nbformat_minor": 0,
  "metadata": {
    "colab": {
      "provenance": []
    },
    "kernelspec": {
      "name": "python3",
      "display_name": "Python 3"
    },
    "language_info": {
      "name": "python"
    }
  },
  "cells": [
    {
      "cell_type": "markdown",
      "metadata": {
        "id": "okaLTnXmDYwK"
      },
      "source": [
        "# Homework"
      ]
    },
    {
      "cell_type": "markdown",
      "metadata": {
        "id": "uPDscfICEWHS"
      },
      "source": [
        "## 1. Implement Sigmoid\n",
        "\n",
        "$h(z) = \\frac{1}{1+e^{-z}}$"
      ]
    },
    {
      "cell_type": "code",
      "metadata": {
        "id": "WX1bvYQEDbUN"
      },
      "source": [
        "import math\n",
        "\n",
        "e = exp = math.exp(1)\n",
        "\n",
        "def sigmoid(z):\n",
        "  ##### Enter your code Here #####\n",
        "  h = 0\n",
        "  ################################\n",
        "  return h"
      ],
      "execution_count": null,
      "outputs": []
    },
    {
      "cell_type": "code",
      "metadata": {
        "colab": {
          "base_uri": "https://localhost:8080/"
        },
        "id": "WxhNvuy0D9qS",
        "outputId": "a487fa44-cbc3-4600-8835-fdc40336a23b",
        "cellView": "form"
      },
      "source": [
        "# @title Test Sigmoid Function\n",
        "# @markdown Run this cell to test if your Sigmoid function is working or not.\n",
        "\n",
        "def testSigmoid():\n",
        "  print('sigmoid(0) =', sigmoid(0))\n",
        "  if sigmoid(0) != 0.5: return False\n",
        "  print('sigmoid(500) ≈', round(sigmoid(500),10))\n",
        "  if round(sigmoid(500),10) != 1: return False\n",
        "  print('sigmoid(-500) ≈', round(sigmoid(-500),10))\n",
        "  if round(sigmoid(-500),10) != 0: return False\n",
        "  return True\n",
        "\n",
        "if testSigmoid():\n",
        "  print('\\nCongratulations!!!\\n')\n",
        "  print('Sigmoid is working Nicely')\n",
        "else:\n",
        "  print('Sigmoid is not working. Please check the formula again')"
      ],
      "execution_count": null,
      "outputs": [
        {
          "output_type": "stream",
          "name": "stdout",
          "text": [
            "sigmoid(0) = 0\n",
            "Sigmoid is not working. Please check the formula again\n"
          ]
        }
      ]
    },
    {
      "cell_type": "markdown",
      "source": [
        "## 2. Implement WordCount\n"
      ],
      "metadata": {
        "id": "Ykv6yGOm3NdE"
      }
    },
    {
      "cell_type": "code",
      "metadata": {
        "id": "2vJif6phDnvN"
      },
      "source": [
        "import re\n",
        "\n",
        "def wordCount(sentence):\n",
        "  '''Reveices a string, splits the string into words. Finally,\n",
        "  Count the words and returns a dictionary where each\n",
        "  word is associated with the number of times that appears in the list.\n",
        "\n",
        "  Args:\n",
        "    listOfWords (list) List of Words. Each word is a string\n",
        "\n",
        "  Returns:\n",
        "    wordFreqs (dict) Dictionary where each key represents a word and each value\n",
        "      represents the number of times each word appears in the list of words\n",
        "  '''\n",
        "  sentence = sentence.lower()\n",
        "  words = {}\n",
        "  ##### Enter your code Here #####\n",
        "\n",
        "  ################################\n",
        "  return words"
      ],
      "execution_count": null,
      "outputs": []
    },
    {
      "cell_type": "code",
      "metadata": {
        "id": "Jn5zoiFWD7cR",
        "cellView": "form"
      },
      "source": [
        "# @title Test Word Count\n",
        "# @markdown Run this cell to test if your WordCount function is working or not.\n",
        "\n",
        "def dictsContainSameValues(dict1, dict2):\n",
        "  if len(dict1) != len(dict2): return False\n",
        "\n",
        "  for key in dict1:\n",
        "    if key not in dict2:\n",
        "      return False\n",
        "    if dict1[key] != dict2[key]:\n",
        "      return False\n",
        "  return True\n",
        "\n",
        "answerTest1 = {\n",
        " 'is': 2,\n",
        " 'a': 1,\n",
        " 'all': 1,\n",
        " 'beer': 1,\n",
        " 'good': 1,\n",
        " 'hapiness': 1,\n",
        " 'hidden': 1,\n",
        " 'in': 1,\n",
        " \"it's\": 1,\n",
        " 'life': 1,\n",
        " 'most': 1,\n",
        " 'need': 1,\n",
        " 'of': 1,\n",
        " 'simple': 1,\n",
        " 'sometimes': 1,\n",
        " 'the': 1,\n",
        " 'things': 1,\n",
        " 'where': 1,\n",
        " 'you': 1\n",
        " }\n",
        "\n",
        "test1 = \"Sometimes all you need Is a good beer!!!. Where iS Hapiness? It's hidden in the most simple things of life\"\n",
        "\n",
        "\n",
        "def testWordCount():\n",
        "  words = wordCount(test1)\n",
        "  if dictsContainSameValues(words, answerTest1): return True\n",
        "  return False\n",
        "\n",
        "if testWordCount():\n",
        "  print('\\nCongratulations!!!\\n')\n",
        "  print('Word Count is working Nicely')\n",
        "else:\n",
        "  print('\\nWord Count is not working. The correct answer should contain the following words with the respective count (order doesn\\'t matter):\\n')\n",
        "  print(answerTest1)\n",
        "  print('\\nYour answer is:\\n')\n",
        "  print(wordCount(test1))"
      ],
      "execution_count": null,
      "outputs": []
    },
    {
      "cell_type": "code",
      "source": [],
      "metadata": {
        "id": "pffVIJaDo6WO"
      },
      "execution_count": null,
      "outputs": []
    }
  ]
}