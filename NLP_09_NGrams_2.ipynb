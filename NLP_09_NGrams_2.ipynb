{
  "nbformat": 4,
  "nbformat_minor": 0,
  "metadata": {
    "colab": {
      "provenance": []
    },
    "kernelspec": {
      "name": "python3",
      "display_name": "Python 3"
    },
    "language_info": {
      "name": "python"
    },
    "accelerator": "GPU"
  },
  "cells": [
    {
      "cell_type": "markdown",
      "metadata": {
        "id": "f8hlIJcy9q9E"
      },
      "source": [
        "# Course: Natural Language Processing\n",
        "## Week 9: N-Grams and Collocations\n",
        "\n",
        "Laboratory: Tweets Classification - Part III (Changing Data Representation)\n",
        "\n",
        "**Author:** Andrés Felipe Zapata Palacio  \n"
      ]
    },
    {
      "cell_type": "code",
      "metadata": {
        "id": "ToHBdoUG9im-",
        "colab": {
          "base_uri": "https://localhost:8080/"
        },
        "outputId": "57e6dadf-7a87-4aca-af80-b5d3f945fbc0"
      },
      "source": [
        "import nltk\n",
        "\n",
        "# Contains different sample datasets\n",
        "from nltk.corpus import gutenberg\n",
        "\n",
        "# This is required to visualize Bag of Words\n",
        "import pandas as pd\n",
        "\n",
        "# Regular Expressions for Text Cleanning\n",
        "import re\n",
        "\n",
        "\n",
        "# NTLK Dependencies for Text Cleaning and Text Processing\n",
        "nltk.download('gutenberg')\n",
        "nltk.download('punkt')\n",
        "nltk.download('wordnet')\n",
        "nltk.download('averaged_perceptron_tagger') # POS Tags\n",
        "nltk.download('universal_tagset')           # POS Tags\n",
        "nltk.download('stopwords')\n",
        "pass"
      ],
      "execution_count": null,
      "outputs": [
        {
          "output_type": "stream",
          "name": "stderr",
          "text": [
            "[nltk_data] Downloading package gutenberg to /root/nltk_data...\n",
            "[nltk_data]   Unzipping corpora/gutenberg.zip.\n",
            "[nltk_data] Downloading package punkt to /root/nltk_data...\n",
            "[nltk_data]   Unzipping tokenizers/punkt.zip.\n",
            "[nltk_data] Downloading package wordnet to /root/nltk_data...\n",
            "[nltk_data] Downloading package averaged_perceptron_tagger to\n",
            "[nltk_data]     /root/nltk_data...\n",
            "[nltk_data]   Unzipping taggers/averaged_perceptron_tagger.zip.\n",
            "[nltk_data] Downloading package universal_tagset to /root/nltk_data...\n",
            "[nltk_data]   Unzipping taggers/universal_tagset.zip.\n",
            "[nltk_data] Downloading package stopwords to /root/nltk_data...\n",
            "[nltk_data]   Unzipping corpora/stopwords.zip.\n"
          ]
        }
      ]
    },
    {
      "cell_type": "markdown",
      "source": [
        "## 1. Load the Example Book\n",
        "\n",
        "![](https://images.cdn1.buscalibre.com/fit-in/360x360/26/52/26527ee19219f760ca567acf15eafc36.jpg)"
      ],
      "metadata": {
        "id": "4TcA_XU8Ccfr"
      }
    },
    {
      "cell_type": "code",
      "source": [
        "from sklearn.feature_extraction.text import CountVectorizer\n",
        "\n",
        "book = nltk.corpus.gutenberg.raw('austen-emma.txt')"
      ],
      "metadata": {
        "id": "SReOTbeHLgbL"
      },
      "execution_count": null,
      "outputs": []
    },
    {
      "cell_type": "code",
      "source": [
        "from nltk.corpus import stopwords\n",
        "from nltk.tokenize import word_tokenize\n",
        "\n",
        "stopWords = nltk.corpus.stopwords.words('english')\n",
        "myOwnStopWords = ['shall', 'rather']\n",
        "\n",
        "stopWords.extend(myOwnStopWords)\n",
        "\n",
        "def preprocessDocument(text):\n",
        "  text = text.lower()\n",
        "  text = re.sub('\\d+',' ', text);\n",
        "  text = re.sub('[_*#!$%&\\'\\\"()\\[\\]\\-+?\\/]+',' ', text)\n",
        "  return text\n",
        "\n",
        "def tokenizeDocument(text):\n",
        "  tokens = word_tokenize(text)\n",
        "  return tokens"
      ],
      "metadata": {
        "id": "nACmNRGvjzsm"
      },
      "execution_count": null,
      "outputs": []
    },
    {
      "cell_type": "code",
      "source": [
        "cleanedBook = preprocessDocument(book)\n",
        "words = tokenizeDocument(cleanedBook)"
      ],
      "metadata": {
        "id": "ium3MJ-OWNq7"
      },
      "execution_count": null,
      "outputs": []
    },
    {
      "cell_type": "code",
      "source": [
        "from nltk.collocations import BigramCollocationFinder\n",
        "\n",
        "pmi = nltk.collocations.BigramAssocMeasures().pmi\n",
        "finder = BigramCollocationFinder.from_words(words)\n",
        "importantBigrams = finder.nbest(pmi, 30)\n",
        "importantBigrams"
      ],
      "metadata": {
        "colab": {
          "base_uri": "https://localhost:8080/"
        },
        "id": "MjJikA-YWXP_",
        "outputId": "6758ac04-247a-47d2-947e-76cbfa83c320"
      },
      "execution_count": null,
      "outputs": [
        {
          "output_type": "execute_result",
          "data": {
            "text/plain": [
              "[('adequate', 'restoratives'),\n",
              " ('al', 'fresco'),\n",
              " ('amor', 'patriae'),\n",
              " ('baly', 'craig'),\n",
              " ('base', 'aspersion'),\n",
              " ('beet', 'root'),\n",
              " ('bulky', 'forms'),\n",
              " ('carte', 'blanche'),\n",
              " ('cherries', 'currants'),\n",
              " ('christened', 'catherine'),\n",
              " ('coarser', 'featured'),\n",
              " ('comments', 'undoubting'),\n",
              " ('dated', 'sept.'),\n",
              " ('de', 'genlis'),\n",
              " ('designedly', 'suppress'),\n",
              " ('dexterously', 'throwing'),\n",
              " ('dispiriting', 'cogitation'),\n",
              " ('eatable', 'hautboys'),\n",
              " ('en', 'passant'),\n",
              " ('fearing', 'adoring'),\n",
              " ('fore', 'shortening'),\n",
              " ('gold', 'reticule'),\n",
              " ('goodly', 'heritage'),\n",
              " ('hood', 'wink'),\n",
              " ('idlest', 'haunts'),\n",
              " ('inconveniently', 'shy'),\n",
              " ('infamous', 'fraud'),\n",
              " ('inspect', 'anything'),\n",
              " ('jeffereys', 'clara'),\n",
              " ('knight', 'errantry')]"
            ]
          },
          "metadata": {},
          "execution_count": 6
        }
      ]
    },
    {
      "cell_type": "code",
      "source": [
        "def filterNgrams(frequencies, minFreq):\n",
        "  cols = ['ngram','freq']\n",
        "  df = pd.DataFrame(columns=cols)\n",
        "  for ngram in frequencies:\n",
        "    frequency = frequencies[ngram]\n",
        "    if frequency < minFreq:\n",
        "      continue\n",
        "    df = df.append({'ngram':ngram, 'freq':frequency}, ignore_index=True)\n",
        "  return df.sort_values(by='freq', axis=0, ascending=False)"
      ],
      "metadata": {
        "id": "yJJqOok-fLnz"
      },
      "execution_count": null,
      "outputs": []
    },
    {
      "cell_type": "code",
      "source": [
        "bigrams = list(nltk.bigrams(words))\n",
        "frequencies = nltk.FreqDist(bigrams)\n",
        "minFreq = 40\n",
        "\n",
        "filterNgrams(frequencies, minFreq)"
      ],
      "metadata": {
        "id": "i5q6XTapZUpB"
      },
      "execution_count": null,
      "outputs": []
    },
    {
      "cell_type": "code",
      "source": [
        "from nltk.collocations import TrigramCollocationFinder\n",
        "\n",
        "pmi = nltk.collocations.TrigramAssocMeasures().pmi\n",
        "finder = TrigramCollocationFinder.from_words(words)\n",
        "importantTrigrams = finder.nbest(pmi,30)\n",
        "importantTrigrams"
      ],
      "metadata": {
        "colab": {
          "base_uri": "https://localhost:8080/"
        },
        "id": "GW3GCyJAWbqM",
        "outputId": "cc781351-2d66-4c82-9405-9c5f3b9d5a7b"
      },
      "execution_count": null,
      "outputs": [
        {
          "output_type": "execute_result",
          "data": {
            "text/plain": [
              "[('cameos', 'corals', 'shells'),\n",
              " ('madame', 'de', 'genlis'),\n",
              " ('medals', 'cameos', 'corals'),\n",
              " ('pastures', 'spreading', 'flocks'),\n",
              " ('de', 'genlis', 'adelaide'),\n",
              " ('proportions', 'fore', 'shortening'),\n",
              " ('spreading', 'flocks', 'orchard'),\n",
              " ('touches', 'malt', 'liquor'),\n",
              " ('unmarked', 'wavering', 'dubious'),\n",
              " ('commonplace', 'threadbare', 'stale'),\n",
              " ('jeffereys', 'clara', 'partridge'),\n",
              " ('listlessness', 'weariness', 'stupidity'),\n",
              " ('disguise', 'equivocation', 'mystery'),\n",
              " ('thick', 'leather', 'gaiters'),\n",
              " ('dated', 'sept', 'th'),\n",
              " ('doth', 'affliction', 'denote'),\n",
              " ('woollen', 'draper', 'linen'),\n",
              " ('hoping', 'fearing', 'adoring'),\n",
              " ('unequal', 'inconsistent', 'incongruous'),\n",
              " ('comments', 'undoubting', 'decision'),\n",
              " ('gossips', 'tiresome', 'wretches'),\n",
              " ('clearest', 'headed', 'longest'),\n",
              " ('serle', 'understands', 'boiling'),\n",
              " ('hedges', 'gates', 'pools'),\n",
              " ('lengths', 'pencil', 'crayon'),\n",
              " ('north', 'east', 'wind'),\n",
              " ('playing', 'robin', 'adair'),\n",
              " ('steaks', 'nicely', 'fried'),\n",
              " ('seat', 'baly', 'craig'),\n",
              " ('baronne', 'd', 'almane')]"
            ]
          },
          "metadata": {},
          "execution_count": 8
        }
      ]
    },
    {
      "cell_type": "code",
      "source": [
        "trigrams = list(nltk.trigrams(words))\n",
        "frequencies = nltk.FreqDist(trigrams)\n",
        "minFreq = 10\n",
        "\n",
        "filterNgrams(frequencies, minFreq)"
      ],
      "metadata": {
        "id": "Rx_svXpzowEb"
      },
      "execution_count": null,
      "outputs": []
    },
    {
      "cell_type": "markdown",
      "source": [
        "## 2. CountVectorizer"
      ],
      "metadata": {
        "id": "o2Io21itWOBJ"
      }
    },
    {
      "cell_type": "code",
      "source": [
        "counter = CountVectorizer(\n",
        "    preprocessor=preprocessDocument,\n",
        "    stop_words=stopWords,\n",
        "    tokenizer=tokenizeDocument,\n",
        "    ngram_range=(1,2)\n",
        "  )\n",
        "\n",
        "bagOfWordsMatrix = counter.fit_transform([book])\n",
        "bagOfWordsMatrix"
      ],
      "metadata": {
        "colab": {
          "base_uri": "https://localhost:8080/"
        },
        "id": "xyRToKN_j3dH",
        "outputId": "2a30450c-57fc-46f6-c6b8-291305deefd7"
      },
      "execution_count": null,
      "outputs": [
        {
          "output_type": "execute_result",
          "data": {
            "text/plain": [
              "<1x59762 sparse matrix of type '<class 'numpy.int64'>'\n",
              "\twith 59762 stored elements in Compressed Sparse Row format>"
            ]
          },
          "metadata": {},
          "execution_count": 13
        }
      ]
    },
    {
      "cell_type": "code",
      "source": [
        "vocabulary = counter.get_feature_names_out()\n",
        "print(vocabulary)"
      ],
      "metadata": {
        "colab": {
          "base_uri": "https://localhost:8080/"
        },
        "id": "dpOhBNwtj6ze",
        "outputId": "10ffa855-79c6-474f-d3fc-08a3f2a92340"
      },
      "execution_count": null,
      "outputs": [
        {
          "output_type": "stream",
          "name": "stdout",
          "text": [
            "['`' '` aimable' '` augusta' ... 'zeal pursuing' 'zigzags'\n",
            " 'zigzags embarrassment']\n"
          ]
        }
      ]
    },
    {
      "cell_type": "code",
      "source": [
        "bagOfWords = pd.DataFrame( data=bagOfWordsMatrix.toarray() , columns=vocabulary )\n",
        "bagOfWords = bagOfWords.sort_values(by=0, axis=1, ascending=False)\n",
        "bagOfWords"
      ],
      "metadata": {
        "id": "Izguo-lmohTK",
        "colab": {
          "base_uri": "https://localhost:8080/",
          "height": 191
        },
        "outputId": "072a7c29-21f3-42e9-cfd0-93672c460728"
      },
      "execution_count": null,
      "outputs": [
        {
          "output_type": "execute_result",
          "data": {
            "text/plain": [
              "     mr  emma  could  would  mrs  miss  must  harriet  much  said  ...  \\\n",
              "0  1154   865    837    821  701   602   571      506   486   484  ...   \n",
              "\n",
              "   goddard till  goddard twelvemonth  goddard unavoidable  goddard voices  \\\n",
              "0             1                    1                    1               1   \n",
              "\n",
              "   goddard want  goddard way  goddard would  goddard written  goes end  \\\n",
              "0             1            1              1                1         1   \n",
              "\n",
              "   zigzags embarrassment  \n",
              "0                      1  \n",
              "\n",
              "[1 rows x 65473 columns]"
            ],
            "text/html": [
              "\n",
              "  <div id=\"df-712ad2c1-70ec-4ec5-b456-85f1bed32f34\">\n",
              "    <div class=\"colab-df-container\">\n",
              "      <div>\n",
              "<style scoped>\n",
              "    .dataframe tbody tr th:only-of-type {\n",
              "        vertical-align: middle;\n",
              "    }\n",
              "\n",
              "    .dataframe tbody tr th {\n",
              "        vertical-align: top;\n",
              "    }\n",
              "\n",
              "    .dataframe thead th {\n",
              "        text-align: right;\n",
              "    }\n",
              "</style>\n",
              "<table border=\"1\" class=\"dataframe\">\n",
              "  <thead>\n",
              "    <tr style=\"text-align: right;\">\n",
              "      <th></th>\n",
              "      <th>mr</th>\n",
              "      <th>emma</th>\n",
              "      <th>could</th>\n",
              "      <th>would</th>\n",
              "      <th>mrs</th>\n",
              "      <th>miss</th>\n",
              "      <th>must</th>\n",
              "      <th>harriet</th>\n",
              "      <th>much</th>\n",
              "      <th>said</th>\n",
              "      <th>...</th>\n",
              "      <th>goddard till</th>\n",
              "      <th>goddard twelvemonth</th>\n",
              "      <th>goddard unavoidable</th>\n",
              "      <th>goddard voices</th>\n",
              "      <th>goddard want</th>\n",
              "      <th>goddard way</th>\n",
              "      <th>goddard would</th>\n",
              "      <th>goddard written</th>\n",
              "      <th>goes end</th>\n",
              "      <th>zigzags embarrassment</th>\n",
              "    </tr>\n",
              "  </thead>\n",
              "  <tbody>\n",
              "    <tr>\n",
              "      <th>0</th>\n",
              "      <td>1154</td>\n",
              "      <td>865</td>\n",
              "      <td>837</td>\n",
              "      <td>821</td>\n",
              "      <td>701</td>\n",
              "      <td>602</td>\n",
              "      <td>571</td>\n",
              "      <td>506</td>\n",
              "      <td>486</td>\n",
              "      <td>484</td>\n",
              "      <td>...</td>\n",
              "      <td>1</td>\n",
              "      <td>1</td>\n",
              "      <td>1</td>\n",
              "      <td>1</td>\n",
              "      <td>1</td>\n",
              "      <td>1</td>\n",
              "      <td>1</td>\n",
              "      <td>1</td>\n",
              "      <td>1</td>\n",
              "      <td>1</td>\n",
              "    </tr>\n",
              "  </tbody>\n",
              "</table>\n",
              "<p>1 rows × 65473 columns</p>\n",
              "</div>\n",
              "      <button class=\"colab-df-convert\" onclick=\"convertToInteractive('df-712ad2c1-70ec-4ec5-b456-85f1bed32f34')\"\n",
              "              title=\"Convert this dataframe to an interactive table.\"\n",
              "              style=\"display:none;\">\n",
              "        \n",
              "  <svg xmlns=\"http://www.w3.org/2000/svg\" height=\"24px\"viewBox=\"0 0 24 24\"\n",
              "       width=\"24px\">\n",
              "    <path d=\"M0 0h24v24H0V0z\" fill=\"none\"/>\n",
              "    <path d=\"M18.56 5.44l.94 2.06.94-2.06 2.06-.94-2.06-.94-.94-2.06-.94 2.06-2.06.94zm-11 1L8.5 8.5l.94-2.06 2.06-.94-2.06-.94L8.5 2.5l-.94 2.06-2.06.94zm10 10l.94 2.06.94-2.06 2.06-.94-2.06-.94-.94-2.06-.94 2.06-2.06.94z\"/><path d=\"M17.41 7.96l-1.37-1.37c-.4-.4-.92-.59-1.43-.59-.52 0-1.04.2-1.43.59L10.3 9.45l-7.72 7.72c-.78.78-.78 2.05 0 2.83L4 21.41c.39.39.9.59 1.41.59.51 0 1.02-.2 1.41-.59l7.78-7.78 2.81-2.81c.8-.78.8-2.07 0-2.86zM5.41 20L4 18.59l7.72-7.72 1.47 1.35L5.41 20z\"/>\n",
              "  </svg>\n",
              "      </button>\n",
              "      \n",
              "  <style>\n",
              "    .colab-df-container {\n",
              "      display:flex;\n",
              "      flex-wrap:wrap;\n",
              "      gap: 12px;\n",
              "    }\n",
              "\n",
              "    .colab-df-convert {\n",
              "      background-color: #E8F0FE;\n",
              "      border: none;\n",
              "      border-radius: 50%;\n",
              "      cursor: pointer;\n",
              "      display: none;\n",
              "      fill: #1967D2;\n",
              "      height: 32px;\n",
              "      padding: 0 0 0 0;\n",
              "      width: 32px;\n",
              "    }\n",
              "\n",
              "    .colab-df-convert:hover {\n",
              "      background-color: #E2EBFA;\n",
              "      box-shadow: 0px 1px 2px rgba(60, 64, 67, 0.3), 0px 1px 3px 1px rgba(60, 64, 67, 0.15);\n",
              "      fill: #174EA6;\n",
              "    }\n",
              "\n",
              "    [theme=dark] .colab-df-convert {\n",
              "      background-color: #3B4455;\n",
              "      fill: #D2E3FC;\n",
              "    }\n",
              "\n",
              "    [theme=dark] .colab-df-convert:hover {\n",
              "      background-color: #434B5C;\n",
              "      box-shadow: 0px 1px 3px 1px rgba(0, 0, 0, 0.15);\n",
              "      filter: drop-shadow(0px 1px 2px rgba(0, 0, 0, 0.3));\n",
              "      fill: #FFFFFF;\n",
              "    }\n",
              "  </style>\n",
              "\n",
              "      <script>\n",
              "        const buttonEl =\n",
              "          document.querySelector('#df-712ad2c1-70ec-4ec5-b456-85f1bed32f34 button.colab-df-convert');\n",
              "        buttonEl.style.display =\n",
              "          google.colab.kernel.accessAllowed ? 'block' : 'none';\n",
              "\n",
              "        async function convertToInteractive(key) {\n",
              "          const element = document.querySelector('#df-712ad2c1-70ec-4ec5-b456-85f1bed32f34');\n",
              "          const dataTable =\n",
              "            await google.colab.kernel.invokeFunction('convertToInteractive',\n",
              "                                                     [key], {});\n",
              "          if (!dataTable) return;\n",
              "\n",
              "          const docLinkHtml = 'Like what you see? Visit the ' +\n",
              "            '<a target=\"_blank\" href=https://colab.research.google.com/notebooks/data_table.ipynb>data table notebook</a>'\n",
              "            + ' to learn more about interactive tables.';\n",
              "          element.innerHTML = '';\n",
              "          dataTable['output_type'] = 'display_data';\n",
              "          await google.colab.output.renderOutput(dataTable, element);\n",
              "          const docLink = document.createElement('div');\n",
              "          docLink.innerHTML = docLinkHtml;\n",
              "          element.appendChild(docLink);\n",
              "        }\n",
              "      </script>\n",
              "    </div>\n",
              "  </div>\n",
              "  "
            ]
          },
          "metadata": {},
          "execution_count": 12
        }
      ]
    }
  ]
}