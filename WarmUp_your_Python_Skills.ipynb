{
  "nbformat": 4,
  "nbformat_minor": 0,
  "metadata": {
    "colab": {
      "provenance": []
    },
    "kernelspec": {
      "name": "python3",
      "display_name": "Python 3"
    },
    "language_info": {
      "name": "python"
    }
  },
  "cells": [
    {
      "cell_type": "markdown",
      "source": [
        "# WarmUp your Python Skills\n",
        "\n",
        "**Author:** Andrés Felipe Zapata Palacio\n",
        "\n",
        "<img src=\"https://sistemasgeniales.com/wp-content/uploads/2020/10/PYTHONLANG3.jpg\" width=\"400px\">\n",
        "\n"
      ],
      "metadata": {
        "id": "m64eUkvS0R5q"
      }
    },
    {
      "cell_type": "markdown",
      "source": [
        "## 1. Strings\n",
        "\n"
      ],
      "metadata": {
        "id": "v0O-I5ty0_tp"
      }
    },
    {
      "cell_type": "markdown",
      "source": [
        "### 1.1. Create Strings"
      ],
      "metadata": {
        "id": "V9wiGO-s8gyP"
      }
    },
    {
      "cell_type": "code",
      "source": [
        "text1 = 'Strings can be surrounded by single quotation marks (\\').'\n",
        "text2 = \"They can also be surrounded by double quotation marks (\\\"), it's the same.\"\n",
        "\n",
        "print(text1, text2)"
      ],
      "metadata": {
        "colab": {
          "base_uri": "https://localhost:8080/"
        },
        "id": "y2Ttny3m7EDT",
        "outputId": "94e0100c-f9cb-4cc7-d60b-ce59def1b8f9"
      },
      "execution_count": null,
      "outputs": [
        {
          "output_type": "stream",
          "name": "stdout",
          "text": [
            "Strings can be surrounded by single quotation marks ('). They can also be surrounded by double quotation marks (\"), it's the same.\n"
          ]
        }
      ]
    },
    {
      "cell_type": "code",
      "source": [
        "longText1 = '''\n",
        "If you need to write multiline strings\n",
        "you can do it using three single quotes at the\n",
        "beginning and at the end\n",
        "'''\n",
        "\n",
        "print(longText1)"
      ],
      "metadata": {
        "colab": {
          "base_uri": "https://localhost:8080/"
        },
        "id": "Uj1vnUpl7wH1",
        "outputId": "3b62b696-a555-4adc-f5a0-24af881ffc07"
      },
      "execution_count": null,
      "outputs": [
        {
          "output_type": "stream",
          "name": "stdout",
          "text": [
            "If you need to write multiline strings\n",
            "you can do it using three single quotes at the\n",
            "beginning and at the end\n"
          ]
        }
      ]
    },
    {
      "cell_type": "code",
      "source": [
        "longText2 = \"\"\"If you need to write multiline strings\n",
        "you can also use three double quotes at the\n",
        "beginning and at the end\"\"\"\n",
        "\n",
        "print(longText2)"
      ],
      "metadata": {
        "colab": {
          "base_uri": "https://localhost:8080/"
        },
        "id": "6-2yZk3W8ABz",
        "outputId": "1a1cd167-93c1-4cb7-c1cc-a0050194ad19"
      },
      "execution_count": null,
      "outputs": [
        {
          "output_type": "stream",
          "name": "stdout",
          "text": [
            "If you need to write multiline strings\n",
            "you can also use three double quotes at the\n",
            "beginning and at the end\n"
          ]
        }
      ]
    },
    {
      "cell_type": "markdown",
      "source": [
        "### 1.2. Concatenation of Strings"
      ],
      "metadata": {
        "id": "4TyI6_lV-UWa"
      }
    },
    {
      "cell_type": "code",
      "source": [
        "firstDigits = '01234'\n",
        "lastDigits = '56789'\n",
        "allDigits = firstDigits + lastDigits\n",
        "print('All digits:',allDigits)"
      ],
      "metadata": {
        "colab": {
          "base_uri": "https://localhost:8080/"
        },
        "id": "rq5L7Gnn-WqT",
        "outputId": "21e932b6-13d2-4161-b82e-ba80ccb69dc4"
      },
      "execution_count": null,
      "outputs": [
        {
          "output_type": "stream",
          "name": "stdout",
          "text": [
            "All digits: 0123456789\n"
          ]
        }
      ]
    },
    {
      "cell_type": "markdown",
      "source": [
        "You must be aware of the data types when you concatenate objects. Sometimes, you need to cast the variables (transform it's data type). If you execute the following cell, it will fail because you can't concatenate Strings with Numbers:"
      ],
      "metadata": {
        "id": "WKNPK66E-p6Q"
      }
    },
    {
      "cell_type": "code",
      "source": [
        "dolars = 10\n",
        "print('I have ' + dolars + ' dolars')"
      ],
      "metadata": {
        "colab": {
          "base_uri": "https://localhost:8080/",
          "height": 184
        },
        "id": "88ma26RQ-3GN",
        "outputId": "3e8bfed5-f13f-442e-e026-3919efffe038"
      },
      "execution_count": null,
      "outputs": [
        {
          "output_type": "error",
          "ename": "TypeError",
          "evalue": "ignored",
          "traceback": [
            "\u001b[0;31m---------------------------------------------------------------------------\u001b[0m",
            "\u001b[0;31mTypeError\u001b[0m                                 Traceback (most recent call last)",
            "\u001b[0;32m<ipython-input-32-f6b2c75dc351>\u001b[0m in \u001b[0;36m<module>\u001b[0;34m()\u001b[0m\n\u001b[1;32m      1\u001b[0m \u001b[0mdolars\u001b[0m \u001b[0;34m=\u001b[0m \u001b[0;36m10\u001b[0m\u001b[0;34m\u001b[0m\u001b[0;34m\u001b[0m\u001b[0m\n\u001b[0;32m----> 2\u001b[0;31m \u001b[0mprint\u001b[0m\u001b[0;34m(\u001b[0m\u001b[0;34m'I have '\u001b[0m \u001b[0;34m+\u001b[0m \u001b[0mdolars\u001b[0m \u001b[0;34m+\u001b[0m \u001b[0;34m' dolars'\u001b[0m\u001b[0;34m)\u001b[0m\u001b[0;34m\u001b[0m\u001b[0;34m\u001b[0m\u001b[0m\n\u001b[0m",
            "\u001b[0;31mTypeError\u001b[0m: can only concatenate str (not \"int\") to str"
          ]
        }
      ]
    },
    {
      "cell_type": "code",
      "source": [
        "dolars = 10\n",
        "print('I have ' + str(dolars) + ' dolars')"
      ],
      "metadata": {
        "id": "Nzuotz44_IWf",
        "colab": {
          "base_uri": "https://localhost:8080/"
        },
        "outputId": "a246cdd7-0975-46b8-a5d9-10efc6d1454f"
      },
      "execution_count": null,
      "outputs": [
        {
          "output_type": "stream",
          "name": "stdout",
          "text": [
            "I have 10 dolars\n"
          ]
        }
      ]
    },
    {
      "cell_type": "markdown",
      "source": [
        "### 1.3. Getting information from a String"
      ],
      "metadata": {
        "id": "dqDpJN_o8upP"
      }
    },
    {
      "cell_type": "markdown",
      "source": [
        "You can get the length of a String calling the len() function:"
      ],
      "metadata": {
        "id": "3DlrDarr_iDm"
      }
    },
    {
      "cell_type": "code",
      "source": [
        "vowels = 'aeiou'\n",
        "nVowels = len(vowels)\n",
        "print('# of vowels:',nVowels)"
      ],
      "metadata": {
        "colab": {
          "base_uri": "https://localhost:8080/"
        },
        "id": "jkw2MmL99j-B",
        "outputId": "462a281c-3bc5-4dea-8ffa-cba49f817d9e"
      },
      "execution_count": null,
      "outputs": [
        {
          "output_type": "stream",
          "name": "stdout",
          "text": [
            "# of vowels: 5\n"
          ]
        }
      ]
    },
    {
      "cell_type": "markdown",
      "source": [
        "You can get a letter in a specific position, specifying the index. Indices start from 0 in Python. In some programming languages such as MatLab, indices start at 1."
      ],
      "metadata": {
        "id": "j3ACNmtc_wpl"
      }
    },
    {
      "cell_type": "code",
      "source": [
        "firstLetter = vowels[0]\n",
        "lastLetter = vowels[-1]\n",
        "\n",
        "print('First Letter:', firstLetter)\n",
        "print('Last Letter:', lastLetter)"
      ],
      "metadata": {
        "colab": {
          "base_uri": "https://localhost:8080/"
        },
        "id": "y8524s0M_wBU",
        "outputId": "532db089-6d7b-4ba2-c5c9-d1420c9d2265"
      },
      "execution_count": null,
      "outputs": [
        {
          "output_type": "stream",
          "name": "stdout",
          "text": [
            "First Letter: a\n",
            "Last Letter: u\n"
          ]
        }
      ]
    },
    {
      "cell_type": "code",
      "source": [
        "lastIndex = len(vowels) - 1\n",
        "lastLetter = vowels[lastIndex]\n",
        "print('Last letter obtained calcuating the last index of the string:', lastLetter)"
      ],
      "metadata": {
        "colab": {
          "base_uri": "https://localhost:8080/"
        },
        "id": "bqMXPDPVAcOd",
        "outputId": "98182964-7b4e-47cc-b8b8-a4b1f47942ab"
      },
      "execution_count": null,
      "outputs": [
        {
          "output_type": "stream",
          "name": "stdout",
          "text": [
            "Last letter obtained calcuating the last index of the string: u\n"
          ]
        }
      ]
    },
    {
      "cell_type": "code",
      "source": [
        "print('vowels = \"'+vowels+'\"')\n",
        "print()\n",
        "\n",
        "for index in range(nVowels):\n",
        "  vowel = vowels[index]\n",
        "  message = 'vowels[' + str(index) + '] = ' + vowel\n",
        "  print(message)"
      ],
      "metadata": {
        "colab": {
          "base_uri": "https://localhost:8080/"
        },
        "id": "bU759DW4-LA7",
        "outputId": "fa8656e9-5fa6-4c9a-fad4-c703f57e112f"
      },
      "execution_count": null,
      "outputs": [
        {
          "output_type": "stream",
          "name": "stdout",
          "text": [
            "vowels = \"aeiou\"\n",
            "\n",
            "vowels[0] = a\n",
            "vowels[1] = e\n",
            "vowels[2] = i\n",
            "vowels[3] = o\n",
            "vowels[4] = u\n"
          ]
        }
      ]
    },
    {
      "cell_type": "code",
      "source": [
        "alphabet = 'abcdefghijklmnopqrstuvwxyz'\n",
        "\n",
        "newAlphabet = ''\n",
        "for letter in alphabet:\n",
        "  newAlphabet += letter  # newAlphabet = newAlphabet + letter\n",
        "  print(newAlphabet)"
      ],
      "metadata": {
        "colab": {
          "base_uri": "https://localhost:8080/"
        },
        "id": "VTKfMLLB8uEz",
        "outputId": "b1894706-f3b7-47ab-9a43-2bbeac253279"
      },
      "execution_count": null,
      "outputs": [
        {
          "output_type": "stream",
          "name": "stdout",
          "text": [
            "a\n",
            "ab\n",
            "abc\n",
            "abcd\n",
            "abcde\n",
            "abcdef\n",
            "abcdefg\n",
            "abcdefgh\n",
            "abcdefghi\n",
            "abcdefghij\n",
            "abcdefghijk\n",
            "abcdefghijkl\n",
            "abcdefghijklm\n",
            "abcdefghijklmn\n",
            "abcdefghijklmno\n",
            "abcdefghijklmnop\n",
            "abcdefghijklmnopq\n",
            "abcdefghijklmnopqr\n",
            "abcdefghijklmnopqrs\n",
            "abcdefghijklmnopqrst\n",
            "abcdefghijklmnopqrstu\n",
            "abcdefghijklmnopqrstuv\n",
            "abcdefghijklmnopqrstuvw\n",
            "abcdefghijklmnopqrstuvwx\n",
            "abcdefghijklmnopqrstuvwxy\n",
            "abcdefghijklmnopqrstuvwxyz\n"
          ]
        }
      ]
    },
    {
      "cell_type": "markdown",
      "source": [
        "### 1.4. Format Strings\n",
        "\n",
        "You can build strings with different values using format instead of casting the variables:"
      ],
      "metadata": {
        "id": "ufBY1HsvDueL"
      }
    },
    {
      "cell_type": "code",
      "source": [
        "nameOfTheMonster = 'Pikachu'\n",
        "nameOfTheVillage = 'Oulu'\n",
        "numberOfPeopleKilled = 100\n",
        "\n",
        "story = f'A temible monster called {nameOfTheMonster} attacked the village of {nameOfTheVillage} and killed {numberOfPeopleKilled} people'\n",
        "\n",
        "print(story)"
      ],
      "metadata": {
        "colab": {
          "base_uri": "https://localhost:8080/"
        },
        "id": "b_RocV48D9My",
        "outputId": "9177a684-23b3-46a7-c3c0-d077187efd2e"
      },
      "execution_count": null,
      "outputs": [
        {
          "output_type": "stream",
          "name": "stdout",
          "text": [
            "A temible monster called Pikachu attacked the village of Oulu and killed 100 people\n"
          ]
        }
      ]
    },
    {
      "cell_type": "markdown",
      "source": [
        "### 1.5. Slicing Strings (Substrings)"
      ],
      "metadata": {
        "id": "E_upFW-91Iiq"
      }
    },
    {
      "cell_type": "code",
      "source": [
        "alphabet = 'abcdefghijklmnopqrstuvwxyz'\n",
        "firstFiveLetters = alphabet[:5]\n",
        "print('First Five Letters:',firstFiveLetters)"
      ],
      "metadata": {
        "id": "naK6T6tB1D5_",
        "colab": {
          "base_uri": "https://localhost:8080/"
        },
        "outputId": "6b0c486e-9afb-4d90-d689-18ecc0acdc93"
      },
      "execution_count": null,
      "outputs": [
        {
          "output_type": "stream",
          "name": "stdout",
          "text": [
            "First Five Letters: abcde\n"
          ]
        }
      ]
    },
    {
      "cell_type": "code",
      "source": [
        "alphabet = 'abcdefghijklmnopqrstuvwxyz'\n",
        "firstFiveLetters = alphabet[0:5]\n",
        "print('First Five Letters:',firstFiveLetters)"
      ],
      "metadata": {
        "colab": {
          "base_uri": "https://localhost:8080/"
        },
        "id": "Zd9mZL2KC9ZS",
        "outputId": "95ee91d6-fb67-4f16-8653-5b4fafed8922"
      },
      "execution_count": null,
      "outputs": [
        {
          "output_type": "stream",
          "name": "stdout",
          "text": [
            "First Five Letters: abcde\n"
          ]
        }
      ]
    },
    {
      "cell_type": "code",
      "source": [
        "alphabet = 'abcdefghijklmnopqrstuvwxyz'\n",
        "lastSixLetters = alphabet[-6:]\n",
        "print('Last Six Letters:',lastSixLetters)"
      ],
      "metadata": {
        "colab": {
          "base_uri": "https://localhost:8080/"
        },
        "id": "_4VxldYeDGKa",
        "outputId": "fa13b140-524a-45e9-cfbc-2ef52055f34b"
      },
      "execution_count": null,
      "outputs": [
        {
          "output_type": "stream",
          "name": "stdout",
          "text": [
            "Last Six Letters: uvwxyz\n"
          ]
        }
      ]
    },
    {
      "cell_type": "code",
      "source": [
        "alphabet = 'abcdefghijklmnopqrstuvwxyz'\n",
        "length = len(alphabet)\n",
        "i1 = length - 6\n",
        "i2 = length\n",
        "lastSixLetters = alphabet[i1:i2]\n",
        "print(f'alphabet[{i1}:{i2}] = {lastSixLetters}')"
      ],
      "metadata": {
        "colab": {
          "base_uri": "https://localhost:8080/"
        },
        "id": "0jVX-gwEDXjB",
        "outputId": "ec09535a-aa9b-48d3-bab9-ed8c7e27b153"
      },
      "execution_count": null,
      "outputs": [
        {
          "output_type": "stream",
          "name": "stdout",
          "text": [
            "alphabet[20:26] = uvwxyz\n"
          ]
        }
      ]
    },
    {
      "cell_type": "markdown",
      "source": [
        "### 1.6. Modify Strings (Unmutable)"
      ],
      "metadata": {
        "id": "-LkXSAti1NAT"
      }
    },
    {
      "cell_type": "code",
      "source": [
        "name = 'john'\n",
        "name + ' jones'\n",
        "print(name)"
      ],
      "metadata": {
        "id": "Kim9a2vw1RP7",
        "colab": {
          "base_uri": "https://localhost:8080/"
        },
        "outputId": "ca97341c-9311-4a4b-956d-d487200b8a7a"
      },
      "execution_count": null,
      "outputs": [
        {
          "output_type": "stream",
          "name": "stdout",
          "text": [
            "john\n"
          ]
        }
      ]
    },
    {
      "cell_type": "code",
      "source": [
        "name = 'john'\n",
        "name = name + ' jones'\n",
        "print(name)"
      ],
      "metadata": {
        "id": "7uyy7SqT1b8e",
        "colab": {
          "base_uri": "https://localhost:8080/"
        },
        "outputId": "34677448-0e0b-422c-9c0a-4332eedf5bd7"
      },
      "execution_count": null,
      "outputs": [
        {
          "output_type": "stream",
          "name": "stdout",
          "text": [
            "john jones\n"
          ]
        }
      ]
    },
    {
      "cell_type": "markdown",
      "source": [
        "### 1.7. Useful Methods"
      ],
      "metadata": {
        "id": "uvm1kQ0Z1mEj"
      }
    },
    {
      "cell_type": "markdown",
      "source": [
        "* str.count()"
      ],
      "metadata": {
        "id": "7uAsV6tTJQMj"
      }
    },
    {
      "cell_type": "code",
      "source": [
        "text = 'AbracAdabrA'\n",
        "text.count('a') , text.count('A')"
      ],
      "metadata": {
        "id": "kdrFJfEE1pwd",
        "colab": {
          "base_uri": "https://localhost:8080/"
        },
        "outputId": "6463603c-8c53-45ed-8e23-7f3c6240e3d3"
      },
      "execution_count": null,
      "outputs": [
        {
          "output_type": "execute_result",
          "data": {
            "text/plain": [
              "(2, 3)"
            ]
          },
          "metadata": {},
          "execution_count": 46
        }
      ]
    },
    {
      "cell_type": "markdown",
      "source": [
        "* str.index()"
      ],
      "metadata": {
        "id": "QLjw6pcZJTLx"
      }
    },
    {
      "cell_type": "code",
      "source": [
        "text = 'Where is the butterfly?'\n",
        "text.find('butter')"
      ],
      "metadata": {
        "colab": {
          "base_uri": "https://localhost:8080/"
        },
        "id": "GYe-DfePJWLo",
        "outputId": "3f877714-17d9-4d8e-b49f-6c950b31a1fa"
      },
      "execution_count": null,
      "outputs": [
        {
          "output_type": "execute_result",
          "data": {
            "text/plain": [
              "13"
            ]
          },
          "metadata": {},
          "execution_count": 47
        }
      ]
    },
    {
      "cell_type": "markdown",
      "source": [
        "* str.isalpha()"
      ],
      "metadata": {
        "id": "ElM7Qlq3JtVw"
      }
    },
    {
      "cell_type": "code",
      "source": [
        "text = 'blink182'\n",
        "text.isalpha()"
      ],
      "metadata": {
        "colab": {
          "base_uri": "https://localhost:8080/"
        },
        "id": "wKdCpvvrJvyI",
        "outputId": "e30900d9-24da-445a-d829-56475cbf70ac"
      },
      "execution_count": null,
      "outputs": [
        {
          "output_type": "execute_result",
          "data": {
            "text/plain": [
              "False"
            ]
          },
          "metadata": {},
          "execution_count": 48
        }
      ]
    },
    {
      "cell_type": "code",
      "source": [
        "text = 'blink'\n",
        "text.isalpha()"
      ],
      "metadata": {
        "colab": {
          "base_uri": "https://localhost:8080/"
        },
        "id": "ZqmDU2WyJ54N",
        "outputId": "7094d3cd-8444-439b-d4cd-d23c4020ca8c"
      },
      "execution_count": null,
      "outputs": [
        {
          "output_type": "execute_result",
          "data": {
            "text/plain": [
              "True"
            ]
          },
          "metadata": {},
          "execution_count": 49
        }
      ]
    },
    {
      "cell_type": "markdown",
      "source": [
        "* str.isdecimal()"
      ],
      "metadata": {
        "id": "jHSFvEC8J71z"
      }
    },
    {
      "cell_type": "code",
      "source": [
        "text = 'blink182'\n",
        "text.isdigit()"
      ],
      "metadata": {
        "colab": {
          "base_uri": "https://localhost:8080/"
        },
        "id": "2VkzoXl4KZ82",
        "outputId": "54d8e5d0-ef5c-4691-86ad-2822e04b2ebb"
      },
      "execution_count": null,
      "outputs": [
        {
          "output_type": "execute_result",
          "data": {
            "text/plain": [
              "False"
            ]
          },
          "metadata": {},
          "execution_count": 50
        }
      ]
    },
    {
      "cell_type": "code",
      "source": [
        "text = '182'\n",
        "text.isdigit()"
      ],
      "metadata": {
        "colab": {
          "base_uri": "https://localhost:8080/"
        },
        "id": "8kjtY-h4KCNi",
        "outputId": "302350a8-72c5-452d-ec6b-446a8fcc4b35"
      },
      "execution_count": null,
      "outputs": [
        {
          "output_type": "execute_result",
          "data": {
            "text/plain": [
              "True"
            ]
          },
          "metadata": {},
          "execution_count": 51
        }
      ]
    },
    {
      "cell_type": "markdown",
      "source": [
        "* str.isalnum()"
      ],
      "metadata": {
        "id": "UHaeSZI9KtMm"
      }
    },
    {
      "cell_type": "code",
      "source": [
        "text = '$#meth!n?'\n",
        "text.isalnum()"
      ],
      "metadata": {
        "colab": {
          "base_uri": "https://localhost:8080/"
        },
        "id": "FPFW4jHtK3Di",
        "outputId": "deec1d06-4d70-4683-e0a4-9531d96e2449"
      },
      "execution_count": null,
      "outputs": [
        {
          "output_type": "execute_result",
          "data": {
            "text/plain": [
              "False"
            ]
          },
          "metadata": {},
          "execution_count": 52
        }
      ]
    },
    {
      "cell_type": "code",
      "source": [
        "text = 's0meth1ng'\n",
        "text.isalnum()"
      ],
      "metadata": {
        "colab": {
          "base_uri": "https://localhost:8080/"
        },
        "id": "YcdbMdYHKvSH",
        "outputId": "ebd6749c-bbe7-4ccf-cb46-ecb4878ffa2f"
      },
      "execution_count": null,
      "outputs": [
        {
          "output_type": "execute_result",
          "data": {
            "text/plain": [
              "True"
            ]
          },
          "metadata": {},
          "execution_count": 53
        }
      ]
    },
    {
      "cell_type": "markdown",
      "source": [
        "* str.replace()"
      ],
      "metadata": {
        "id": "nCCdBvi4LdEv"
      }
    },
    {
      "cell_type": "code",
      "source": [
        "text = ' s o m e t h i n g '\n",
        "text.replace(' ','')"
      ],
      "metadata": {
        "colab": {
          "base_uri": "https://localhost:8080/",
          "height": 36
        },
        "id": "rimTMtCxLfm3",
        "outputId": "fb2c4e54-10df-44b6-aa63-acb7e180940c"
      },
      "execution_count": null,
      "outputs": [
        {
          "output_type": "execute_result",
          "data": {
            "application/vnd.google.colaboratory.intrinsic+json": {
              "type": "string"
            },
            "text/plain": [
              "'something'"
            ]
          },
          "metadata": {},
          "execution_count": 12
        }
      ]
    },
    {
      "cell_type": "markdown",
      "source": [
        "* str.split()"
      ],
      "metadata": {
        "id": "G-cRcqH6Lup9"
      }
    },
    {
      "cell_type": "code",
      "source": [
        "items = 'eggs-fruits-vegetables-milk'\n",
        "items.split('-')"
      ],
      "metadata": {
        "colab": {
          "base_uri": "https://localhost:8080/"
        },
        "id": "dKLwLwFmLxFI",
        "outputId": "644c04a9-43ed-41ba-a139-72f5563fd3d8"
      },
      "execution_count": null,
      "outputs": [
        {
          "output_type": "execute_result",
          "data": {
            "text/plain": [
              "['eggs', 'fruits', 'vegetables', 'milk']"
            ]
          },
          "metadata": {},
          "execution_count": 43
        }
      ]
    },
    {
      "cell_type": "markdown",
      "source": [
        "* str.lower()"
      ],
      "metadata": {
        "id": "9Foilgx3MDFY"
      }
    },
    {
      "cell_type": "code",
      "source": [
        "text = 'CONVERT THIS TO LOWER CASE'\n",
        "text.lower()"
      ],
      "metadata": {
        "colab": {
          "base_uri": "https://localhost:8080/",
          "height": 37
        },
        "id": "kbdLvoMrMEhc",
        "outputId": "edeca1e8-8501-4e18-c8c2-38e98425a56f"
      },
      "execution_count": null,
      "outputs": [
        {
          "output_type": "execute_result",
          "data": {
            "application/vnd.google.colaboratory.intrinsic+json": {
              "type": "string"
            },
            "text/plain": [
              "'convert this to lower case'"
            ]
          },
          "metadata": {},
          "execution_count": 56
        }
      ]
    },
    {
      "cell_type": "markdown",
      "source": [
        "Let's do together the problem of Coding Bat called **make_tags**. You can find it in the section **String-1** [Link](https://codingbat.com/prob/p132290)"
      ],
      "metadata": {
        "id": "Y0YImlQtjksF"
      }
    },
    {
      "cell_type": "markdown",
      "source": [
        "If you want to improve or test your skills with Strings, go through the following challenges:\n",
        "\n",
        "**CodingBat: String-1** [Link](https://codingbat.com/python/String-1)\n",
        "\n",
        "⍟   make_abba  \n",
        "⍟⍟  first_half  \n",
        "⍟⍟  extra_end  \n",
        "⍟⍟  make_tags  \n",
        "⍟⍟  non_start"
      ],
      "metadata": {
        "id": "f-Lu9OTajezV"
      }
    },
    {
      "cell_type": "markdown",
      "source": [
        "## 2. Data Structures"
      ],
      "metadata": {
        "id": "z0F0oqPn3ixv"
      }
    },
    {
      "cell_type": "markdown",
      "source": [
        "### 2.1. Lists"
      ],
      "metadata": {
        "id": "9-F77bNh1CG_"
      }
    },
    {
      "cell_type": "code",
      "source": [
        "emptyList = []\n",
        "\n",
        "fruits = ['apple', 'orange', 'banana']\n",
        "\n",
        "listWithMultipleDataTypes = ['John', 10 , False]"
      ],
      "metadata": {
        "id": "FzQMlZpH16TJ"
      },
      "execution_count": null,
      "outputs": []
    },
    {
      "cell_type": "code",
      "source": [
        "fruits = ['apple', 'orange', 'banana']\n",
        "firstFruit = fruits[0]\n",
        "lastFruit = fruits[-1]\n",
        "\n",
        "print(f'First Fruit: {firstFruit}')\n",
        "print(f'Last Fruit: {lastFruit}')"
      ],
      "metadata": {
        "id": "7V24gv9F1-_N",
        "colab": {
          "base_uri": "https://localhost:8080/"
        },
        "outputId": "409245b3-108e-4c11-d015-1a5961a1bc82"
      },
      "execution_count": null,
      "outputs": [
        {
          "output_type": "stream",
          "name": "stdout",
          "text": [
            "First Fruit: apple\n",
            "Last Fruit: banana\n"
          ]
        }
      ]
    },
    {
      "cell_type": "markdown",
      "source": [
        "You can iterate over the elements of a list, executing certain code with each one using For Loops. In this first example, the loop executes the code for each element:"
      ],
      "metadata": {
        "id": "YRo6jLvC2C6S"
      }
    },
    {
      "cell_type": "code",
      "source": [
        "for fruit in fruits:\n",
        "  print(fruit)"
      ],
      "metadata": {
        "id": "5k8s3Jhv2II1",
        "colab": {
          "base_uri": "https://localhost:8080/"
        },
        "outputId": "f69cde43-7de5-4390-d623-e27ba048e67b"
      },
      "execution_count": null,
      "outputs": [
        {
          "output_type": "stream",
          "name": "stdout",
          "text": [
            "apple\n",
            "orange\n",
            "banana\n"
          ]
        }
      ]
    },
    {
      "cell_type": "markdown",
      "source": [
        "It's also possible to iterate over the list using the indices:"
      ],
      "metadata": {
        "id": "t7WMIOpk2Vse"
      }
    },
    {
      "cell_type": "code",
      "source": [
        "nFruits = len(fruits)\n",
        "\n",
        "for index in range(nFruits):\n",
        "  fruit = fruits[index]\n",
        "  print(fruit + ' is at position #' + str(index))"
      ],
      "metadata": {
        "id": "AUGOxo1f1-Po",
        "colab": {
          "base_uri": "https://localhost:8080/"
        },
        "outputId": "cb1540e5-cfb3-4f2b-e52e-650930384e97"
      },
      "execution_count": null,
      "outputs": [
        {
          "output_type": "stream",
          "name": "stdout",
          "text": [
            "apple is at position #0\n",
            "orange is at position #1\n",
            "banana is at position #2\n"
          ]
        }
      ]
    },
    {
      "cell_type": "markdown",
      "source": [
        "#### Add elements"
      ],
      "metadata": {
        "id": "gLqyMSMZR67q"
      }
    },
    {
      "cell_type": "code",
      "source": [
        "fruits = ['apple', 'orange', 'banana']\n",
        "print('Before appending:',fruits)\n",
        "fruits.append('mango')\n",
        "print('After appending:',fruits)"
      ],
      "metadata": {
        "id": "z3oG0nax2AcL",
        "colab": {
          "base_uri": "https://localhost:8080/"
        },
        "outputId": "0a73c081-4887-4a42-b672-8b6f77c4ef77"
      },
      "execution_count": null,
      "outputs": [
        {
          "output_type": "stream",
          "name": "stdout",
          "text": [
            "Before appending: ['apple', 'orange', 'banana']\n",
            "After appending: ['apple', 'orange', 'banana', 'mango']\n"
          ]
        }
      ]
    },
    {
      "cell_type": "code",
      "source": [
        "print('Before removing the last element:',fruits)\n",
        "fruits.pop()\n",
        "print('After removing the last element:',fruits)"
      ],
      "metadata": {
        "id": "HmAe8IlH2FKh",
        "colab": {
          "base_uri": "https://localhost:8080/"
        },
        "outputId": "3b9b216f-adae-44fc-bc0f-84cbf59ed322"
      },
      "execution_count": null,
      "outputs": [
        {
          "output_type": "stream",
          "name": "stdout",
          "text": [
            "Before removing the last element: ['apple', 'orange', 'banana', 'mango']\n",
            "After removing the last element: ['apple', 'orange', 'banana']\n"
          ]
        }
      ]
    },
    {
      "cell_type": "code",
      "source": [
        "print('Before removing the first element:',fruits)\n",
        "fruits.pop(0)\n",
        "print('After removing the first element:',fruits)"
      ],
      "metadata": {
        "colab": {
          "base_uri": "https://localhost:8080/"
        },
        "id": "CJhNhlTGTBEG",
        "outputId": "b52ec887-9e8f-497e-8508-0c73e44c1336"
      },
      "execution_count": null,
      "outputs": [
        {
          "output_type": "stream",
          "name": "stdout",
          "text": [
            "Before removing the first element: ['apple', 'orange', 'banana']\n",
            "After removing the first element: ['orange', 'banana']\n"
          ]
        }
      ]
    },
    {
      "cell_type": "markdown",
      "source": [
        "Let's do together the problem of Coding Bat called **array_count9**. You can find it in the section **Warmup-2** [Link](https://codingbat.com/prob/p166170)"
      ],
      "metadata": {
        "id": "HFPqgc9dkFji"
      }
    },
    {
      "cell_type": "markdown",
      "source": [
        "If you want to improve or test your skills with Lists, go through the following challenges:\n",
        "\n",
        "**CodingBat: Warmup 2**\n",
        "\n",
        "⍟   array_count9  \n",
        "⍟⍟  array123\n",
        "\n",
        "**CodingBat: List 1**\n",
        "\n",
        "⍟   common_end  \n",
        "⍟⍟  rotate_left3  \n",
        "⍟   max_end3"
      ],
      "metadata": {
        "id": "hk-vcdvkkO8B"
      }
    },
    {
      "cell_type": "markdown",
      "source": [
        "### 2.2. Dictionaries (a.k.a Maps)"
      ],
      "metadata": {
        "id": "H-kDrSpy1-Xd"
      }
    },
    {
      "cell_type": "code",
      "source": [
        "personalInformationInSingleLine = { 'name':'John' , 'age':45 , 'isStudent':True, 'courses': ['NLP','NN'] }"
      ],
      "metadata": {
        "id": "79uy9PCXjBTp"
      },
      "execution_count": null,
      "outputs": []
    },
    {
      "cell_type": "code",
      "source": [
        "personalInformation = {\n",
        "    'name':'John',\n",
        "    'age':45,\n",
        "    'isStudent':True,\n",
        "    'courses': [ 'NLP' , 'NN' ]\n",
        "}"
      ],
      "metadata": {
        "id": "UodflHI72Q1P"
      },
      "execution_count": null,
      "outputs": []
    },
    {
      "cell_type": "code",
      "source": [
        "for field in personalInformation:\n",
        "  value = personalInformation[field]\n",
        "  print(f'{field} -> {value}')"
      ],
      "metadata": {
        "id": "l4OHcFn42RSP",
        "colab": {
          "base_uri": "https://localhost:8080/"
        },
        "outputId": "ff47678b-d658-444c-8496-44d618e20756"
      },
      "execution_count": null,
      "outputs": [
        {
          "output_type": "stream",
          "name": "stdout",
          "text": [
            "name -> John\n",
            "age -> 45\n",
            "isStudent -> True\n",
            "courses -> ['NLP', 'NN']\n"
          ]
        }
      ]
    },
    {
      "cell_type": "markdown",
      "source": [
        "#### Get a specific element"
      ],
      "metadata": {
        "id": "ilgRC3wXOF8_"
      }
    },
    {
      "cell_type": "code",
      "source": [
        "name = personalInformation['name']\n",
        "name"
      ],
      "metadata": {
        "id": "TgyPLrpp2S15",
        "colab": {
          "base_uri": "https://localhost:8080/",
          "height": 37
        },
        "outputId": "23067d27-3bd2-4fd0-cd53-2e3baf238286"
      },
      "execution_count": null,
      "outputs": [
        {
          "output_type": "execute_result",
          "data": {
            "application/vnd.google.colaboratory.intrinsic+json": {
              "type": "string"
            },
            "text/plain": [
              "'John'"
            ]
          },
          "metadata": {},
          "execution_count": 67
        }
      ]
    },
    {
      "cell_type": "markdown",
      "source": [
        "#### Iterate over a Dictionary"
      ],
      "metadata": {
        "id": "BgU0sSUmOBf1"
      }
    },
    {
      "cell_type": "code",
      "source": [
        "for field in personalInformation:\n",
        "  value = personalInformation[field]\n",
        "  print(f'{field} -> {value}')"
      ],
      "metadata": {
        "colab": {
          "base_uri": "https://localhost:8080/"
        },
        "id": "G0vyB5IINeol",
        "outputId": "61763164-d491-487b-d6c5-760ae9ad54cb"
      },
      "execution_count": null,
      "outputs": [
        {
          "output_type": "stream",
          "name": "stdout",
          "text": [
            "name -> John\n",
            "age -> 45\n",
            "isStudent -> True\n",
            "courses -> ['NLP', 'NN']\n"
          ]
        }
      ]
    },
    {
      "cell_type": "markdown",
      "source": [
        "#### Add a new element"
      ],
      "metadata": {
        "id": "h8689Hi5OdmL"
      }
    },
    {
      "cell_type": "code",
      "source": [
        "personalInformation['favoriteColor'] = 'blue'\n",
        "personalInformation"
      ],
      "metadata": {
        "id": "SV6z4Tfw2TnK",
        "colab": {
          "base_uri": "https://localhost:8080/"
        },
        "outputId": "f6b57ac8-ec78-48c4-ccce-742804fe6609"
      },
      "execution_count": null,
      "outputs": [
        {
          "output_type": "execute_result",
          "data": {
            "text/plain": [
              "{'age': 45,\n",
              " 'courses': ['NLP', 'NN'],\n",
              " 'favoriteColor': 'blue',\n",
              " 'isStudent': True,\n",
              " 'name': 'John'}"
            ]
          },
          "metadata": {},
          "execution_count": 69
        }
      ]
    },
    {
      "cell_type": "markdown",
      "source": [
        "#### Remove an element"
      ],
      "metadata": {
        "id": "OWBBXxCPOpKS"
      }
    },
    {
      "cell_type": "code",
      "source": [
        "personalInformation.pop('isStudent')\n",
        "personalInformation"
      ],
      "metadata": {
        "id": "FxeKD4b22Ud8",
        "colab": {
          "base_uri": "https://localhost:8080/"
        },
        "outputId": "466aca60-4ba7-464a-ec9d-63d629da66a3"
      },
      "execution_count": null,
      "outputs": [
        {
          "output_type": "execute_result",
          "data": {
            "text/plain": [
              "{'age': 45, 'courses': ['NLP', 'NN'], 'favoriteColor': 'blue', 'name': 'John'}"
            ]
          },
          "metadata": {},
          "execution_count": 70
        }
      ]
    },
    {
      "cell_type": "markdown",
      "source": [
        "Let's do together the problem of Coding Bat called **list2dict**. You can't find it in any official section. [Link](https://codingbat.com/prob/p220674)"
      ],
      "metadata": {
        "id": "MuttcuedmG2E"
      }
    },
    {
      "cell_type": "markdown",
      "source": [
        "## 3. Conditionals"
      ],
      "metadata": {
        "id": "Lm5l1B7S2z-L"
      }
    },
    {
      "cell_type": "code",
      "source": [
        "question1 = 'Did the hero escaped from the monster? [yes/no]'\n",
        "answer1 = input(question1)\n",
        "if answer1 == 'yes':\n",
        "  escaped = True\n",
        "else:\n",
        "  escaped = False\n",
        "print(f'Escaped = {escaped}')"
      ],
      "metadata": {
        "id": "zpWtnPqzUqfY",
        "colab": {
          "base_uri": "https://localhost:8080/"
        },
        "outputId": "0e7fcd64-332d-48b7-a607-47da2df286b3"
      },
      "execution_count": null,
      "outputs": [
        {
          "output_type": "stream",
          "name": "stdout",
          "text": [
            "Did the hero escaped from the monster? [yes/no]maybe\n",
            "Escaped = False\n"
          ]
        }
      ]
    },
    {
      "cell_type": "markdown",
      "source": [
        "Let's do together the problem of Coding Bat called **love6**. You can find it in the section **Logic 1** [Link](https://codingbat.com/prob/p100958)"
      ],
      "metadata": {
        "id": "Njnk3sSCh7Y8"
      }
    },
    {
      "cell_type": "markdown",
      "source": [
        "If you want to improve or test your skills with Conditionals, go through the following challenges:\n",
        "\n",
        "**CodingBat: Warmup 1**\n",
        "\n",
        "⍟   sum_double  \n",
        "⍟⍟  diff21  \n",
        "⍟⍟  not_string  \n",
        "⍟⍟⍟ pos_neg  \n",
        "\n",
        "**CodingBat: Logic 1**\n",
        "\n",
        "⍟   sorta_sum  \n",
        "⍟⍟  love6  \n",
        "⍟⍟  in1to10  \n",
        "⍟⍟⍟ caught_speeding  \n",
        "\n",
        "**CodingBat: Logic 2**\n",
        "\n",
        "⍟   lone_sum  \n",
        "⍟⍟⍟ lucky_sum\n",
        "\n"
      ],
      "metadata": {
        "id": "JN6WRy3-nBf4"
      }
    },
    {
      "cell_type": "markdown",
      "source": [
        "## 4. Functions"
      ],
      "metadata": {
        "id": "iqtslJyc3ROk"
      }
    },
    {
      "cell_type": "code",
      "source": [
        "def explainFunctions():\n",
        "  print()\n",
        "  print('Functions can be defined without receiving parameters and without returning any value')\n",
        "  print('They can be useful to automate repetitive tasks, grouping a block of code in a single component')\n",
        "  print('This simple component can be executed as many times as you want.')\n",
        "  print()\n",
        "  print('Next time that you copy paste code you should consider creating a function :)')"
      ],
      "metadata": {
        "id": "IyffUdPQcAft"
      },
      "execution_count": null,
      "outputs": []
    },
    {
      "cell_type": "code",
      "source": [
        "explainFunctions()"
      ],
      "metadata": {
        "colab": {
          "base_uri": "https://localhost:8080/"
        },
        "id": "-bBNd73sNATW",
        "outputId": "07a42e91-5eb2-443f-c694-699dcab1076c"
      },
      "execution_count": null,
      "outputs": [
        {
          "output_type": "stream",
          "name": "stdout",
          "text": [
            "\n",
            "Functions can be defined without receiving parameters and without returning any value\n",
            "They can be useful to automate repetitive tasks, grouping a block of code in a single component\n",
            "This simple component can be executed as many times as you want.\n",
            "\n",
            "Next time that you copy paste code you should consider creating a function :)\n"
          ]
        }
      ]
    },
    {
      "cell_type": "markdown",
      "source": [
        "### 4.1. Parameters\n",
        "\n",
        "Functions can receive parameters and use them inside it:"
      ],
      "metadata": {
        "id": "XPryT5sAdcO_"
      }
    },
    {
      "cell_type": "code",
      "source": [
        "def tellShortStory(heroName='John',monsterName='Pikachu'):\n",
        "  print(f'In the middle of the night, a monster called {monsterName} attacked a village')"
      ],
      "metadata": {
        "id": "mRM0dRatc2ce"
      },
      "execution_count": null,
      "outputs": []
    },
    {
      "cell_type": "code",
      "source": [
        "heroName = 'Moctezuma'\n",
        "monsterName = 'Pikachu'\n",
        "tellShortStory(heroName, monsterName)"
      ],
      "metadata": {
        "colab": {
          "base_uri": "https://localhost:8080/"
        },
        "id": "_nbTUEZWeO7D",
        "outputId": "3d7f2c5e-6900-4d73-ed0b-931211d2c78a"
      },
      "execution_count": null,
      "outputs": [
        {
          "output_type": "stream",
          "name": "stdout",
          "text": [
            "In the middle of the night, a monster called Pikachu attacked a village\n"
          ]
        }
      ]
    },
    {
      "cell_type": "markdown",
      "source": [
        "The function called tellShortStory() won't work if you don't pass the two parameters when you call it."
      ],
      "metadata": {
        "id": "vUK8-InbeXu8"
      }
    },
    {
      "cell_type": "code",
      "source": [
        "tellShortStory(monsterName='Abc')"
      ],
      "metadata": {
        "colab": {
          "base_uri": "https://localhost:8080/"
        },
        "id": "Ohjr5jgBef6O",
        "outputId": "a8f6eb6d-f598-4752-92aa-410404571887"
      },
      "execution_count": null,
      "outputs": [
        {
          "output_type": "stream",
          "name": "stdout",
          "text": [
            "In the middle of the night, a monster called Abc attacked a village\n"
          ]
        }
      ]
    },
    {
      "cell_type": "markdown",
      "source": [
        "These parameters can have default values, so that you don't have to declare all the parameters when you call the function. This is very useful if you are going to use a specific value most of the times that you call a function."
      ],
      "metadata": {
        "id": "1nAN6W0LdvgF"
      }
    },
    {
      "cell_type": "code",
      "source": [
        "def tellShortStory(heroName,monsterName, heroIsPowerful=True):\n",
        "  print(f'In the middle of the night, a terrible monster called {monsterName} attacked a village')\n",
        "  if (heroIsPowerful):\n",
        "    print(f'Nevertheless, the legendary hero called {heroName} appeared and destroyed the monster')\n",
        "  else:\n",
        "    print(f'The monster was so powerful that no one could save the village, neither the legendary hero called {heroName}')"
      ],
      "metadata": {
        "id": "2-SfO6FqdYyP"
      },
      "execution_count": null,
      "outputs": []
    },
    {
      "cell_type": "code",
      "source": [
        "heroName = 'Moctezuma'\n",
        "monsterName = 'Pikachu'\n",
        "tellShortStory(heroName, monsterName)"
      ],
      "metadata": {
        "colab": {
          "base_uri": "https://localhost:8080/"
        },
        "id": "NQq9DDx0d-jA",
        "outputId": "ee762839-d40c-4955-bc87-e80ebbf3d670"
      },
      "execution_count": null,
      "outputs": [
        {
          "output_type": "stream",
          "name": "stdout",
          "text": [
            "In the middle of the night, a terrible monster called Pikachu attacked a village\n",
            "Nevertheless, the legendary hero called Moctezuma appeared and destroyed the monster\n"
          ]
        }
      ]
    },
    {
      "cell_type": "code",
      "source": [
        "heroName = 'Moctezuma'\n",
        "monsterName = 'Pikachu'\n",
        "tellShortStory(heroName, monsterName, heroIsPowerful=False)"
      ],
      "metadata": {
        "colab": {
          "base_uri": "https://localhost:8080/"
        },
        "id": "E9B7uBg5fU3A",
        "outputId": "aa92fa11-2fff-451b-e082-d793abd378d9"
      },
      "execution_count": null,
      "outputs": [
        {
          "output_type": "stream",
          "name": "stdout",
          "text": [
            "In the middle of the night, a terrible monster called Pikachu attacked a village\n",
            "The monster was so powerful that no one could save the village, neither the legendary hero called Moctezuma\n"
          ]
        }
      ]
    },
    {
      "cell_type": "markdown",
      "source": [
        "You can also change the order of the parameters, however, you must specify the name of all of them:"
      ],
      "metadata": {
        "id": "BWCBSdjzfZWS"
      }
    },
    {
      "cell_type": "code",
      "source": [
        "tellShortStory(heroIsPowerful=False, monsterName='Pikachu', heroName='Moctezuma')"
      ],
      "metadata": {
        "colab": {
          "base_uri": "https://localhost:8080/"
        },
        "id": "q6Le9sWcfYNt",
        "outputId": "54d000c6-0ac0-4639-835d-7f3a4ba04a56"
      },
      "execution_count": null,
      "outputs": [
        {
          "output_type": "stream",
          "name": "stdout",
          "text": [
            "In the middle of the night, a terrible monster called Pikachu attacked a village\n",
            "The monster was so powerful that no one could save the village, neither the legendary hero called Moctezuma\n"
          ]
        }
      ]
    },
    {
      "cell_type": "markdown",
      "source": [
        "### 4.2. Define Return values"
      ],
      "metadata": {
        "id": "TyM3vx8vfrp-"
      }
    },
    {
      "cell_type": "code",
      "source": [
        "def functionThatReceivesAndReturns(number):\n",
        "  print(f'This function can receive a parameter, execute some code inside and return a final result')\n",
        "  result = 10 * number + 5\n",
        "  print(f'This function receives a number and returns a calculation defined by y=10x+5')\n",
        "  print()\n",
        "  print(f'This function received a {number}')\n",
        "  print(f'{number} multiplied by 10 is {10*number}')\n",
        "  print(f'And {10*number} plus 5 is {result}')\n",
        "  return result"
      ],
      "metadata": {
        "id": "01GfXEGcfnHF"
      },
      "execution_count": null,
      "outputs": []
    },
    {
      "cell_type": "code",
      "source": [
        "number = 0\n",
        "value = functionThatReceivesAndReturns(number)"
      ],
      "metadata": {
        "colab": {
          "base_uri": "https://localhost:8080/"
        },
        "id": "DK6TavUygKmB",
        "outputId": "5dbcb3fb-1eaa-4324-d83a-1919035725b1"
      },
      "execution_count": null,
      "outputs": [
        {
          "output_type": "stream",
          "name": "stdout",
          "text": [
            "This function can receive a parameter, execute some code inside and return a final result\n",
            "This function receives a number and returns a calculation defined by y=10x+5\n",
            "\n",
            "This function received a 0\n",
            "0 multiplied by 10 is 0\n",
            "And 0 plus 5 is 5\n"
          ]
        }
      ]
    },
    {
      "cell_type": "code",
      "source": [
        "print(f'Final value for input {number} is {value}')"
      ],
      "metadata": {
        "colab": {
          "base_uri": "https://localhost:8080/"
        },
        "id": "nGY1K-B8gc2u",
        "outputId": "e69ddc1b-70dd-4696-ccd0-1484bb1d4aa0"
      },
      "execution_count": null,
      "outputs": [
        {
          "output_type": "stream",
          "name": "stdout",
          "text": [
            "Final value for input 0 is 5\n"
          ]
        }
      ]
    }
  ]
}