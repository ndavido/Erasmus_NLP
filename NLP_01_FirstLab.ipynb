{
  "nbformat": 4,
  "nbformat_minor": 0,
  "metadata": {
    "colab": {
      "provenance": []
    },
    "kernelspec": {
      "name": "python3",
      "display_name": "Python 3"
    },
    "language_info": {
      "name": "python"
    }
  },
  "cells": [
    {
      "cell_type": "markdown",
      "source": [
        "# Course: Natural Language Processing\n",
        "## Week 1: First Practical Laboratory using Jupyter Notebooks\n",
        "\n",
        "**Author:** Andrés Felipe Zapata Palacio  \n",
        "**Description:**\n",
        "For this practical exercise, we are going to use a sentiment analizer [1] that is freely available in the NLTK library.\n"
      ],
      "metadata": {
        "id": "VEP3TOim4wqk"
      }
    },
    {
      "cell_type": "code",
      "source": [
        "# If you execute this code in your own environment you must uncomment and run the following line:\n",
        "#!pip install nltk"
      ],
      "metadata": {
        "id": "uB4KhL7-1ePE"
      },
      "execution_count": null,
      "outputs": []
    },
    {
      "cell_type": "code",
      "execution_count": null,
      "metadata": {
        "id": "1QWUVqH33dTv"
      },
      "outputs": [],
      "source": [
        "%%capture\n",
        "\n",
        "import nltk\n",
        "from nltk.sentiment import SentimentIntensityAnalyzer\n",
        "nltk.download('vader_lexicon')"
      ]
    },
    {
      "cell_type": "code",
      "source": [
        "analizer = SentimentIntensityAnalyzer()\n",
        "\n",
        "def analizeSentiments(sentences):\n",
        "  for sentence in sentences:\n",
        "      print(sentence)\n",
        "      scores = analizer.polarity_scores(sentence)\n",
        "      for key in sorted(scores):\n",
        "          print(f'{key}: {scores[key]}')\n",
        "      print()"
      ],
      "metadata": {
        "id": "747WfMvr32XE"
      },
      "execution_count": null,
      "outputs": []
    },
    {
      "cell_type": "markdown",
      "source": [
        "## Neutral Opinions"
      ],
      "metadata": {
        "id": "y9I9QNDw9bpq"
      }
    },
    {
      "cell_type": "code",
      "source": [
        "sentences = [\n",
        "    \"That videogame is normal\",\n",
        "    \"That videogame is normal, didn't surprised me, but was not bad\",\n",
        "    \"That videogame is just one more in the list, nothing new to show\"\n",
        "]\n",
        "\n",
        "analizeSentiments(sentences)"
      ],
      "metadata": {
        "colab": {
          "base_uri": "https://localhost:8080/"
        },
        "id": "xSW1LVkY9hK-",
        "outputId": "7f787bde-5b5e-4cd5-f8de-92ec216e9836"
      },
      "execution_count": null,
      "outputs": [
        {
          "output_type": "stream",
          "name": "stdout",
          "text": [
            "That videogame is normal\n",
            "compound: 0.0\n",
            "neg: 0.0\n",
            "neu: 1.0\n",
            "pos: 0.0\n",
            "\n",
            "That videogame is normal, didn't surprised me, but was not bad\n",
            "compound: 0.5334\n",
            "neg: 0.094\n",
            "neu: 0.638\n",
            "pos: 0.268\n",
            "\n",
            "That videogame is just one more in the list, nothing new to show\n",
            "compound: 0.0\n",
            "neg: 0.0\n",
            "neu: 1.0\n",
            "pos: 0.0\n",
            "\n"
          ]
        }
      ]
    },
    {
      "cell_type": "markdown",
      "source": [
        "## Positive Opinions"
      ],
      "metadata": {
        "id": "GwvHgGSV-A0Q"
      }
    },
    {
      "cell_type": "code",
      "source": [
        "sentences = [\n",
        "    \"Spiderman: No way home is the best super hero movie I have ever seen. It's Amazing\",\n",
        "    \"The last Spiderman movie is the best super hero movie I have ever seen. It's Amazing\",\n",
        "    \"The last Spiderman movie is the BEST super hero movie I have ever seen. The plot is Amazing, The visual effects are Spectacular and the actors are just Incredible\",\n",
        "]\n",
        "\n",
        "analizeSentiments(sentences)"
      ],
      "metadata": {
        "colab": {
          "base_uri": "https://localhost:8080/"
        },
        "id": "-WF1-LOZ-Dtr",
        "outputId": "d8423d45-48de-46fb-e40b-e05e73aa0d0b"
      },
      "execution_count": null,
      "outputs": [
        {
          "output_type": "stream",
          "name": "stdout",
          "text": [
            "Spiderman: No way home is the best super hero movie I have ever seen. It's Amazing\n",
            "compound: 0.936\n",
            "neg: 0.079\n",
            "neu: 0.361\n",
            "pos: 0.56\n",
            "\n",
            "The last Spiderman movie is the best super hero movie I have ever seen. It's Amazing\n",
            "compound: 0.9477\n",
            "neg: 0.0\n",
            "neu: 0.415\n",
            "pos: 0.585\n",
            "\n",
            "The last Spiderman movie is the BEST super hero movie I have ever seen. The plot is Amazing, The visual effects are Spectacular and the actors are just Incredible\n",
            "compound: 0.9534\n",
            "neg: 0.0\n",
            "neu: 0.597\n",
            "pos: 0.403\n",
            "\n"
          ]
        }
      ]
    },
    {
      "cell_type": "markdown",
      "source": [
        "## Negative Opinions"
      ],
      "metadata": {
        "id": "0V8t4plU_R0o"
      }
    },
    {
      "cell_type": "code",
      "source": [
        "sentences = [\n",
        "    \"Fast and Furious 6 is the worst movie I have ever seen. It's unreal, too ficticious and not funny at all\",\n",
        "    \"F&F6 is funny but a bad action movie\"\n",
        "]\n",
        "\n",
        "analizeSentiments(sentences)"
      ],
      "metadata": {
        "colab": {
          "base_uri": "https://localhost:8080/"
        },
        "id": "VEYcXEfd_Qjj",
        "outputId": "77dfb963-67ff-4808-9413-cfed154d06b6"
      },
      "execution_count": null,
      "outputs": [
        {
          "output_type": "stream",
          "name": "stdout",
          "text": [
            "Fast and Furious 6 is the worst movie I have ever seen. It's unreal, too ficticious and not funny at all\n",
            "compound: -0.8808\n",
            "neg: 0.389\n",
            "neu: 0.611\n",
            "pos: 0.0\n",
            "\n",
            "F&F6 is funny but a bad action movie\n",
            "compound: -0.5859\n",
            "neg: 0.406\n",
            "neu: 0.427\n",
            "pos: 0.167\n",
            "\n"
          ]
        }
      ]
    },
    {
      "cell_type": "markdown",
      "source": [
        "## The power of one single word\n",
        "\n",
        "You can conclude that the Sentiment Analizer that we are using is not able to understand the relationship between the surrounding words. However, these words can change significantly the meaning of the sentence."
      ],
      "metadata": {
        "id": "04Xik7CQRT8v"
      }
    },
    {
      "cell_type": "code",
      "source": [
        "sentences = [\n",
        "    \"The movie was bad\",            # Clearly Negative\n",
        "    \"The movie was not that bad\",   # Negative\n",
        "    \"The movie was not bad\",        # Neutral\n",
        "    \"The movie was not bad at all\"  # Positive\n",
        "]\n",
        "\n",
        "analizeSentiments(sentences)"
      ],
      "metadata": {
        "colab": {
          "base_uri": "https://localhost:8080/"
        },
        "id": "P4CIvQwmRWeH",
        "outputId": "66a3db58-feb2-4601-d4d4-f37fd3508920"
      },
      "execution_count": null,
      "outputs": [
        {
          "output_type": "stream",
          "name": "stdout",
          "text": [
            "The movie was bad\n",
            "compound: -0.5423\n",
            "neg: 0.538\n",
            "neu: 0.462\n",
            "pos: 0.0\n",
            "\n",
            "The movie was not that bad\n",
            "compound: 0.431\n",
            "neg: 0.0\n",
            "neu: 0.637\n",
            "pos: 0.363\n",
            "\n",
            "The movie was not bad\n",
            "compound: 0.431\n",
            "neg: 0.0\n",
            "neu: 0.584\n",
            "pos: 0.416\n",
            "\n",
            "The movie was not bad at all\n",
            "compound: 0.431\n",
            "neg: 0.0\n",
            "neu: 0.678\n",
            "pos: 0.322\n",
            "\n"
          ]
        }
      ]
    },
    {
      "cell_type": "markdown",
      "source": [
        "## Ambiguity"
      ],
      "metadata": {
        "id": "WdPxvsU-BdTR"
      }
    },
    {
      "cell_type": "code",
      "source": [
        "sentences = [\n",
        "    \"Fast and Furious 6 is the worst movie I have ever seen. It's unreal, too ficticious and not funny at all\",\n",
        "    \"The movie is funny but a bad action movie\",\n",
        "    \"The script is not fantastic, but the acting is decent and the cinematography is EXCELLENT!\",\n",
        "    \"This movie was actually neither that funny, nor super witty.\",\n",
        "]\n",
        "\n",
        "analizeSentiments(sentences)"
      ],
      "metadata": {
        "colab": {
          "base_uri": "https://localhost:8080/"
        },
        "id": "q7FmJUKdB7_l",
        "outputId": "975ef93e-d08b-4936-d529-791634522e0d"
      },
      "execution_count": null,
      "outputs": [
        {
          "output_type": "stream",
          "name": "stdout",
          "text": [
            "Fast and Furious 6 is the worst movie I have ever seen. It's unreal, too ficticious and not funny at all\n",
            "compound: -0.8808\n",
            "neg: 0.389\n",
            "neu: 0.611\n",
            "pos: 0.0\n",
            "\n",
            "The movie is funny but a bad action movie\n",
            "compound: -0.5859\n",
            "neg: 0.374\n",
            "neu: 0.472\n",
            "pos: 0.154\n",
            "\n",
            "The script is not fantastic, but the acting is decent and the cinematography is EXCELLENT!\n",
            "compound: 0.7565\n",
            "neg: 0.092\n",
            "neu: 0.607\n",
            "pos: 0.301\n",
            "\n",
            "This movie was actually neither that funny, nor super witty.\n",
            "compound: -0.6759\n",
            "neg: 0.41\n",
            "neu: 0.59\n",
            "pos: 0.0\n",
            "\n"
          ]
        }
      ]
    },
    {
      "cell_type": "markdown",
      "source": [
        "## Test your Own Sentence"
      ],
      "metadata": {
        "id": "ccXHiYhdB9yn"
      }
    },
    {
      "cell_type": "code",
      "source": [
        "Sentence = \"I really like learning Natural Language Processing :D\" #@param {type:\"string\"}\n",
        "\n",
        "analizeSentiments([Sentence])"
      ],
      "metadata": {
        "colab": {
          "base_uri": "https://localhost:8080/"
        },
        "cellView": "form",
        "id": "q2qNrNATCAd1",
        "outputId": "e481de34-2875-47bd-cf52-ada73e71590f"
      },
      "execution_count": null,
      "outputs": [
        {
          "output_type": "stream",
          "name": "stdout",
          "text": [
            "I really like learning Natural Language Processing :D\n",
            "compound: 0.8621\n",
            "neg: 0.0\n",
            "neu: 0.294\n",
            "pos: 0.706\n",
            "\n"
          ]
        }
      ]
    },
    {
      "cell_type": "markdown",
      "source": [
        "## References\n",
        "\n",
        "[1] Steven Bird, Ewan Klein, and Edward Loper (2009). Natural Language Processing with Python. O’Reilly Media Inc. https://www.nltk.org/book/"
      ],
      "metadata": {
        "id": "Q5lbxEP45Mbk"
      }
    }
  ]
}