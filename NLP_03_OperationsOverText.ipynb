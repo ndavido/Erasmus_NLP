{
  "nbformat": 4,
  "nbformat_minor": 0,
  "metadata": {
    "colab": {
      "provenance": []
    },
    "kernelspec": {
      "name": "python3",
      "display_name": "Python 3"
    },
    "language_info": {
      "name": "python"
    }
  },
  "cells": [
    {
      "cell_type": "markdown",
      "source": [
        "# Course: Natural Language Processing\n",
        "## Week 3: Text Cleaning\n",
        "\n",
        "**Author:** Andrés Felipe Zapata Palacio  "
      ],
      "metadata": {
        "id": "j53u-m1TxgPA"
      }
    },
    {
      "cell_type": "markdown",
      "metadata": {
        "id": "fhC8W6JX4BSY"
      },
      "source": [
        "## Example\n",
        "\n",
        "We will use the following text as an example for this Text Cleaning Laboratory:\n",
        "\n",
        "```\n",
        "The Andes, Andes Mountains or Andean Mountains (Spanish: Cordillera de los Andes) are the longest continental mountain range in the world, forming a continuous highland along the western edge of South America.\n",
        "The range is 6,999 km (4,349 mi) long, 200 to 700 km (124 to 435 mi) wide (widest between 18°S - 20°S latitude), and has an average height of about 4,000 m (13,123 ft).\n",
        "The Andes extend from north to south through seven South American countries: Venezuela, Colombia, Ecuador, Peru, Bolivia, Chile, and Argentina.\n",
        "Along their length, the Andes are split into several ranges, separated by intermediate depressions.\n",
        "The Andes are the location of several high plateaus—some of which host major cities such as Quito, Bogotá, Cali, Arequipa, Medellín, Bucaramanga, Sucre, Mérida,\n",
        "El Alto and La Paz. The Altiplano plateau is the world's second-highest after the Tibetan plateau. These ranges are in turn grouped into three major divisions based on climate: the Tropical Andes, the Dry Andes, and the Wet Andes.\n",
        "The Andes Mountains are the highest mountain range outside Asia. The highest mountain outside Asia, Argentina's Mount Aconcagua, rises to an elevation of about 6,961 m (22,838 ft) above sea level.\n",
        "The peak of Chimborazo in the Ecuadorian Andes is farther from the Earth's center than any other location on the Earth's surface, due to the equatorial bulge resulting from the Earth's rotation. The world's highest volcanoes are in the Andes, including Ojos del Salado on the Chile-Argentina border, which rises to 6,893 m (22,615 ft).\n",
        "The Andes are also part of the American Cordillera, a chain of mountain ranges (cordillera) that consists of an almost continuous sequence of mountain ranges that form the western \"backbone\" of North America, Central America, South America and Antarctica.\n",
        "```\n"
      ]
    },
    {
      "cell_type": "code",
      "metadata": {
        "id": "7WhZDUNW2lhx"
      },
      "source": [
        "text = '''\n",
        "The Andes, Andes Mountains or Andean Mountains (Spanish: Cordillera de los Andes) are the longest continental mountain range in the world, forming a continuous highland along the western edge of South America.\n",
        "The range is 6,999 km (4,349 mi) long, 200 to 700 km (124 to 435 mi) wide (widest between 18°S - 20°S latitude), and has an average height of about 4,000 m (13,123 ft).\n",
        "The Andes extend from north to south through seven South American countries: Venezuela, Colombia, Ecuador, Peru, Bolivia, Chile, and Argentina.\n",
        "Along their length, the Andes are split into several ranges, separated by intermediate depressions.\n",
        "The Andes are the location of several high plateaus—some of which host major cities such as Quito, Bogotá, Cali, Arequipa, Medellín, Bucaramanga, Sucre, Mérida,\n",
        "El Alto and La Paz. The Altiplano plateau is the world's second-highest after the Tibetan plateau. These ranges are in turn grouped into three major divisions based on climate: the Tropical Andes, the Dry Andes, and the Wet Andes.\n",
        "The Andes Mountains are the highest mountain range outside Asia. The highest mountain outside Asia, Argentina's Mount Aconcagua, rises to an elevation of about 6,961 m (22,838 ft) above sea level. The peak of Chimborazo in the Ecuadorian Andes is farther from the Earth's center than any other location on the Earth's surface, due to the equatorial bulge resulting from the Earth's rotation. The world's highest volcanoes are in the Andes, including Ojos del Salado on the Chile-Argentina border, which rises to 6,893 m (22,615 ft).\n",
        "The Andes are also part of the American Cordillera, a chain of mountain ranges (cordillera) that consists of an almost continuous sequence of mountain ranges that form the western \"backbone\" of North America, Central America, South America and Antarctica.\n",
        "'''"
      ],
      "execution_count": null,
      "outputs": []
    },
    {
      "cell_type": "markdown",
      "metadata": {
        "id": "l48snfZ16rPu"
      },
      "source": [
        "## Remove New Lines"
      ]
    },
    {
      "cell_type": "code",
      "metadata": {
        "id": "xGyviock6oCm"
      },
      "source": [
        "text = text.replace('\\n','')"
      ],
      "execution_count": null,
      "outputs": []
    },
    {
      "cell_type": "markdown",
      "metadata": {
        "id": "4MvFoA4T5IB8"
      },
      "source": [
        "## Remove Content in Parenthesis"
      ]
    },
    {
      "cell_type": "code",
      "metadata": {
        "id": "w4bcSACV6brQ"
      },
      "source": [
        "import re"
      ],
      "execution_count": null,
      "outputs": []
    },
    {
      "cell_type": "code",
      "metadata": {
        "colab": {
          "base_uri": "https://localhost:8080/",
          "height": 163
        },
        "id": "9choSj0u5KlB",
        "outputId": "68ad46e4-da00-4a83-99e6-6aab89c184fc"
      },
      "source": [
        "parenthesisRegex = '\\([^()]*\\)'\n",
        "textWithoutParenthesis = re.sub(parenthesisRegex,'', text)\n",
        "textWithoutParenthesis"
      ],
      "execution_count": null,
      "outputs": [
        {
          "output_type": "execute_result",
          "data": {
            "text/plain": [
              "'The Andes, Andes Mountains or Andean Mountains  are the longest continental mountain range in the world, forming a continuous highland along the western edge of South America.The range is 6,999 km  long, 200 to 700 km  wide , and has an average height of about 4,000 m . The Andes extend from north to south through seven South American countries: Venezuela, Colombia, Ecuador, Peru, Bolivia, Chile, and Argentina.Along their length, the Andes are split into several ranges, separated by intermediate depressions. The Andes are the location of several high plateaus—some of which host major cities such as Quito, Bogotá, Cali, Arequipa, Medellín, Bucaramanga, Sucre, Mérida, El Alto and La Paz. The Altiplano plateau is the world\\'s second-highest after the Tibetan plateau. These ranges are in turn grouped into three major divisions based on climate: the Tropical Andes, the Dry Andes, and the Wet Andes.The Andes Mountains are the highest mountain range outside Asia. The highest mountain outside Asia, Argentina\\'s Mount Aconcagua, rises to an elevation of about 6,961 m  above sea level. The peak of Chimborazo in the Ecuadorian Andes is farther from the Earth\\'s center than any other location on the Earth\\'s surface, due to the equatorial bulge resulting from the Earth\\'s rotation. The world\\'s highest volcanoes are in the Andes, including Ojos del Salado on the Chile-Argentina border, which rises to 6,893 m .The Andes are also part of the American Cordillera, a chain of mountain ranges  that consists of an almost continuous sequence of mountain ranges that form the western \"backbone\" of North America, Central America, South America and Antarctica.'"
            ],
            "application/vnd.google.colaboratory.intrinsic+json": {
              "type": "string"
            }
          },
          "metadata": {},
          "execution_count": 5
        }
      ]
    },
    {
      "cell_type": "markdown",
      "metadata": {
        "id": "nDGYQcvY7xdB"
      },
      "source": [
        "## Remove Numbers"
      ]
    },
    {
      "cell_type": "code",
      "metadata": {
        "colab": {
          "base_uri": "https://localhost:8080/",
          "height": 109
        },
        "id": "KKQueR_Z7zEj",
        "outputId": "a7d45466-b034-46a5-bcf1-e44775f3b407"
      },
      "source": [
        "numberRegex = '\\d+[,\\d+]*'\n",
        "textWithoutNumbers = re.sub(numberRegex, ' ', textWithoutParenthesis)\n",
        "textWithoutNumbers"
      ],
      "execution_count": null,
      "outputs": [
        {
          "output_type": "execute_result",
          "data": {
            "text/plain": [
              "'The Andes, Andes Mountains or Andean Mountains  are the longest continental mountain range in the world, forming a continuous highland along the western edge of South America.The range is   km  long,   to   km  wide , and has an average height of about   m . The Andes extend from north to south through seven South American countries: Venezuela, Colombia, Ecuador, Peru, Bolivia, Chile, and Argentina.Along their length, the Andes are split into several ranges, separated by intermediate depressions. The Andes are the location of several high plateaus—some of which host major cities such as Quito, Bogotá, Cali, Arequipa, Medellín, Bucaramanga, Sucre, Mérida, El Alto and La Paz. The Altiplano plateau is the world\\'s second-highest after the Tibetan plateau. These ranges are in turn grouped into three major divisions based on climate: the Tropical Andes, the Dry Andes, and the Wet Andes.The Andes Mountains are the highest mountain range outside Asia. The highest mountain outside Asia, Argentina\\'s Mount Aconcagua, rises to an elevation of about   m  above sea level. The peak of Chimborazo in the Ecuadorian Andes is farther from the Earth\\'s center than any other location on the Earth\\'s surface, due to the equatorial bulge resulting from the Earth\\'s rotation. The world\\'s highest volcanoes are in the Andes, including Ojos del Salado on the Chile-Argentina border, which rises to   m .The Andes are also part of the American Cordillera, a chain of mountain ranges  that consists of an almost continuous sequence of mountain ranges that form the western \"backbone\" of North America, Central America, South America and Antarctica.'"
            ],
            "application/vnd.google.colaboratory.intrinsic+json": {
              "type": "string"
            }
          },
          "metadata": {},
          "execution_count": 6
        }
      ]
    },
    {
      "cell_type": "markdown",
      "metadata": {
        "id": "Qfbi1eFd_A1S"
      },
      "source": [
        "## Remove Punctuation\n",
        "\n",
        "It's very important to replace the puntuation for spaces and not for an empty string. Otherwise, some words can get mixed.\n",
        "\n",
        "For Example: Argentina and Along would be Argentina.Along in the next step."
      ]
    },
    {
      "cell_type": "code",
      "metadata": {
        "colab": {
          "base_uri": "https://localhost:8080/",
          "height": 163
        },
        "id": "oXtxy5Fs_Dol",
        "outputId": "6a792e14-25ea-429d-cb6e-92c6709b11e9"
      },
      "source": [
        "textWithoutPunctuation = re.sub(\"[^\\w\\s]\", \" \", textWithoutNumbers)\n",
        "textWithoutPunctuation"
      ],
      "execution_count": null,
      "outputs": [
        {
          "output_type": "execute_result",
          "data": {
            "text/plain": [
              "'The Andes  Andes Mountains or Andean Mountains  are the longest continental mountain range in the world  forming a continuous highland along the western edge of South America The range is   km  long    to   km  wide   and has an average height of about   m   The Andes extend from north to south through seven South American countries  Venezuela  Colombia  Ecuador  Peru  Bolivia  Chile  and Argentina Along their length  the Andes are split into several ranges  separated by intermediate depressions  The Andes are the location of several high plateaus some of which host major cities such as Quito  Bogotá  Cali  Arequipa  Medellín  Bucaramanga  Sucre  Mérida  El Alto and La Paz  The Altiplano plateau is the world s second highest after the Tibetan plateau  These ranges are in turn grouped into three major divisions based on climate  the Tropical Andes  the Dry Andes  and the Wet Andes The Andes Mountains are the highest mountain range outside Asia  The highest mountain outside Asia  Argentina s Mount Aconcagua  rises to an elevation of about   m  above sea level  The peak of Chimborazo in the Ecuadorian Andes is farther from the Earth s center than any other location on the Earth s surface  due to the equatorial bulge resulting from the Earth s rotation  The world s highest volcanoes are in the Andes  including Ojos del Salado on the Chile Argentina border  which rises to   m  The Andes are also part of the American Cordillera  a chain of mountain ranges  that consists of an almost continuous sequence of mountain ranges that form the western  backbone  of North America  Central America  South America and Antarctica '"
            ],
            "application/vnd.google.colaboratory.intrinsic+json": {
              "type": "string"
            }
          },
          "metadata": {},
          "execution_count": 7
        }
      ]
    },
    {
      "cell_type": "markdown",
      "metadata": {
        "id": "YWeSaMTtEVtx"
      },
      "source": [
        "## Normalize the Text: Lower Case"
      ]
    },
    {
      "cell_type": "code",
      "metadata": {
        "colab": {
          "base_uri": "https://localhost:8080/",
          "height": 109
        },
        "id": "SZA6UbQ_EYUH",
        "outputId": "ac09c46b-017c-4a3e-cb48-37a7063d926c"
      },
      "source": [
        "textNormalized = textWithoutPunctuation.lower()\n",
        "textNormalized"
      ],
      "execution_count": null,
      "outputs": [
        {
          "output_type": "execute_result",
          "data": {
            "text/plain": [
              "'the andes  andes mountains or andean mountains  are the longest continental mountain range in the world  forming a continuous highland along the western edge of south america the range is   km  long    to   km  wide   and has an average height of about   m   the andes extend from north to south through seven south american countries  venezuela  colombia  ecuador  peru  bolivia  chile  and argentina along their length  the andes are split into several ranges  separated by intermediate depressions  the andes are the location of several high plateaus some of which host major cities such as quito  bogotá  cali  arequipa  medellín  bucaramanga  sucre  mérida  el alto and la paz  the altiplano plateau is the world s second highest after the tibetan plateau  these ranges are in turn grouped into three major divisions based on climate  the tropical andes  the dry andes  and the wet andes the andes mountains are the highest mountain range outside asia  the highest mountain outside asia  argentina s mount aconcagua  rises to an elevation of about   m  above sea level  the peak of chimborazo in the ecuadorian andes is farther from the earth s center than any other location on the earth s surface  due to the equatorial bulge resulting from the earth s rotation  the world s highest volcanoes are in the andes  including ojos del salado on the chile argentina border  which rises to   m  the andes are also part of the american cordillera  a chain of mountain ranges  that consists of an almost continuous sequence of mountain ranges that form the western  backbone  of north america  central america  south america and antarctica '"
            ],
            "application/vnd.google.colaboratory.intrinsic+json": {
              "type": "string"
            }
          },
          "metadata": {},
          "execution_count": 13
        }
      ]
    },
    {
      "cell_type": "markdown",
      "metadata": {
        "id": "_oOjZNS4-G6a"
      },
      "source": [
        "## Tokenize"
      ]
    },
    {
      "cell_type": "code",
      "metadata": {
        "colab": {
          "base_uri": "https://localhost:8080/"
        },
        "id": "2cn9dcve-IhB",
        "outputId": "0e20a68f-c60b-4b0c-f07b-bae26cb07793"
      },
      "source": [
        "words = textNormalized.split()\n",
        "print('First ten words: ','\\n',words[:10])"
      ],
      "execution_count": null,
      "outputs": [
        {
          "output_type": "stream",
          "name": "stdout",
          "text": [
            "First ten words:  \n",
            " ['the', 'andes', 'andes', 'mountains', 'or', 'andean', 'mountains', 'are', 'the', 'longest']\n"
          ]
        }
      ]
    },
    {
      "cell_type": "markdown",
      "metadata": {
        "id": "BoXh99ad2Vrb"
      },
      "source": [
        "## Removing Stop Words"
      ]
    },
    {
      "cell_type": "code",
      "metadata": {
        "colab": {
          "base_uri": "https://localhost:8080/"
        },
        "id": "cVYIf5XC2XrA",
        "outputId": "9ab5a81b-1d54-418d-81aa-c3c9b7c0bf98"
      },
      "source": [
        "import nltk\n",
        "nltk.download('stopwords')\n",
        "from nltk.corpus import stopwords"
      ],
      "execution_count": null,
      "outputs": [
        {
          "output_type": "stream",
          "name": "stderr",
          "text": [
            "[nltk_data] Downloading package stopwords to /root/nltk_data...\n",
            "[nltk_data]   Unzipping corpora/stopwords.zip.\n"
          ]
        }
      ]
    },
    {
      "cell_type": "code",
      "metadata": {
        "colab": {
          "base_uri": "https://localhost:8080/"
        },
        "id": "qjUQlaqL2cMQ",
        "outputId": "1da3937b-ef6f-4f86-c550-559cb95738ad"
      },
      "source": [
        "stop_words = stopwords.words('english')\n",
        "stop_words[:10]"
      ],
      "execution_count": null,
      "outputs": [
        {
          "output_type": "execute_result",
          "data": {
            "text/plain": [
              "['i', 'me', 'my', 'myself', 'we', 'our', 'ours', 'ourselves', 'you', \"you're\"]"
            ]
          },
          "metadata": {},
          "execution_count": 20
        }
      ]
    },
    {
      "cell_type": "code",
      "metadata": {
        "colab": {
          "base_uri": "https://localhost:8080/"
        },
        "id": "f5uhmhk227la",
        "outputId": "d110e963-b6f5-48ee-a5ea-b05b7e6781e9"
      },
      "source": [
        "cleanedWords = [w for w in words if not w in stop_words]\n",
        "cleanedWords[:10]"
      ],
      "execution_count": null,
      "outputs": [
        {
          "output_type": "execute_result",
          "data": {
            "text/plain": [
              "['andes',\n",
              " 'andes',\n",
              " 'mountains',\n",
              " 'andean',\n",
              " 'mountains',\n",
              " 'longest',\n",
              " 'continental',\n",
              " 'mountain',\n",
              " 'range',\n",
              " 'world']"
            ]
          },
          "metadata": {},
          "execution_count": 32
        }
      ]
    },
    {
      "cell_type": "markdown",
      "metadata": {
        "id": "ogXoq1rDMlzd"
      },
      "source": [
        "## Lemmatize\n",
        "\n",
        "As you can see, the lemmatization was not executed perfectly. In the next session, we will see what are Part Of Speech tags and how can they improve the performance of the Lemmatizer."
      ]
    },
    {
      "cell_type": "code",
      "metadata": {
        "colab": {
          "base_uri": "https://localhost:8080/"
        },
        "id": "zy-34R34MnUp",
        "outputId": "a1463ac8-ef3f-44bb-f5ca-52400525e866"
      },
      "source": [
        "nltk.download('wordnet')\n",
        "nltk.download('omw-1.4')\n",
        "from nltk.stem import WordNetLemmatizer\n",
        "\n",
        "lemmatizer = WordNetLemmatizer()\n",
        "\n",
        "lemmatizedWords = [ lemmatizer.lemmatize(word) for word in cleanedWords ]\n",
        "lemmatizedWords[:10]"
      ],
      "execution_count": null,
      "outputs": [
        {
          "output_type": "stream",
          "name": "stderr",
          "text": [
            "[nltk_data] Downloading package wordnet to /root/nltk_data...\n",
            "[nltk_data]   Package wordnet is already up-to-date!\n",
            "[nltk_data] Downloading package omw-1.4 to /root/nltk_data...\n"
          ]
        },
        {
          "output_type": "execute_result",
          "data": {
            "text/plain": [
              "['andes',\n",
              " 'andes',\n",
              " 'mountain',\n",
              " 'andean',\n",
              " 'mountain',\n",
              " 'longest',\n",
              " 'continental',\n",
              " 'mountain',\n",
              " 'range',\n",
              " 'world']"
            ]
          },
          "metadata": {},
          "execution_count": 35
        }
      ]
    },
    {
      "cell_type": "code",
      "metadata": {
        "colab": {
          "base_uri": "https://localhost:8080/",
          "height": 211
        },
        "id": "fIrdLWjuFHxr",
        "outputId": "a3c865a6-6f1f-4b49-844d-5250b1e54347"
      },
      "source": [
        "cleanedText = ' '.join(lemmatizedWords)\n",
        "cleanedText"
      ],
      "execution_count": null,
      "outputs": [
        {
          "output_type": "execute_result",
          "data": {
            "application/vnd.google.colaboratory.intrinsic+json": {
              "type": "string"
            },
            "text/plain": [
              "'andes andes mountain andean mountain longest continental mountain range world forming continuous highland along western edge south america range km long km wide average height andes extend north south seven south american country venezuela colombia ecuador peru bolivia chile argentina along length andes split several range separated intermediate depression andes location several high plateau host major city quito bogotá cali arequipa medellín bucaramanga sucre mérida el alto la paz altiplano plateau world second highest tibetan plateau range turn grouped three major division based climate tropical andes dry andes wet andes andes mountain highest mountain range outside asia highest mountain outside asia argentina mount aconcagua rise elevation sea level peak chimborazo ecuadorian andes farther earth center location earth surface due equatorial bulge resulting earth rotation world highest volcano andes including ojos del salado chile argentina border rise andes also part american cordillera chain mountain range consists almost continuous sequence mountain range form western backbone north america central america south america antarctica'"
            ]
          },
          "metadata": {},
          "execution_count": 13
        }
      ]
    },
    {
      "cell_type": "markdown",
      "metadata": {
        "id": "PoFNTq4BEmS0"
      },
      "source": [
        "## Bag of Words"
      ]
    },
    {
      "cell_type": "code",
      "metadata": {
        "colab": {
          "base_uri": "https://localhost:8080/"
        },
        "id": "u2pRqhvvC_Qc",
        "outputId": "cf564d9a-5dc3-4a67-8c85-ab4cd57f2a1b"
      },
      "source": [
        "import pandas as pd\n",
        "from sklearn.feature_extraction.text import CountVectorizer\n",
        "\n",
        "counter = CountVectorizer()\n",
        "\n",
        "bagOfWords = counter.fit_transform([cleanedText])\n",
        "\n",
        "df = pd.DataFrame(bagOfWords.toarray(),columns=counter.get_feature_names())\n",
        "\n",
        "with pd.option_context('display.max_rows', None, 'display.max_columns', None):  # more options can be specified also\n",
        "    print(df.iloc[0].sort_values(ascending=False))"
      ],
      "execution_count": null,
      "outputs": [
        {
          "output_type": "stream",
          "name": "stdout",
          "text": [
            "andes           12\n",
            "mountain         8\n",
            "range            7\n",
            "highest          4\n",
            "america          4\n",
            "south            4\n",
            "world            3\n",
            "earth            3\n",
            "argentina        3\n",
            "plateau          3\n",
            "chile            2\n",
            "north            2\n",
            "outside          2\n",
            "asia             2\n",
            "location         2\n",
            "continuous       2\n",
            "along            2\n",
            "major            2\n",
            "km               2\n",
            "rise             2\n",
            "american         2\n",
            "several          2\n",
            "western          2\n",
            "length           1\n",
            "part             1\n",
            "peak             1\n",
            "paz              1\n",
            "mérida           1\n",
            "ojos             1\n",
            "level            1\n",
            "mount            1\n",
            "peru             1\n",
            "longest          1\n",
            "long             1\n",
            "la               1\n",
            "medellín         1\n",
            "rotation         1\n",
            "quito            1\n",
            "surface          1\n",
            "wide             1\n",
            "wet              1\n",
            "volcano          1\n",
            "venezuela        1\n",
            "turn             1\n",
            "tropical         1\n",
            "tibetan          1\n",
            "three            1\n",
            "sucre            1\n",
            "resulting        1\n",
            "split            1\n",
            "seven            1\n",
            "sequence         1\n",
            "separated        1\n",
            "second           1\n",
            "sea              1\n",
            "salado           1\n",
            "including        1\n",
            "intermediate     1\n",
            "aconcagua        1\n",
            "host             1\n",
            "bolivia          1\n",
            "city             1\n",
            "chimborazo       1\n",
            "chain            1\n",
            "central          1\n",
            "center           1\n",
            "cali             1\n",
            "bulge            1\n",
            "bucaramanga      1\n",
            "border           1\n",
            "bogotá           1\n",
            "colombia         1\n",
            "based            1\n",
            "backbone         1\n",
            "average          1\n",
            "arequipa         1\n",
            "antarctica       1\n",
            "andean           1\n",
            "alto             1\n",
            "altiplano        1\n",
            "also             1\n",
            "climate          1\n",
            "consists         1\n",
            "highland         1\n",
            "el               1\n",
            "high             1\n",
            "almost           1\n",
            "grouped          1\n",
            "forming          1\n",
            "form             1\n",
            "farther          1\n",
            "extend           1\n",
            "equatorial       1\n",
            "elevation        1\n",
            "edge             1\n",
            "continental      1\n",
            "ecuadorian       1\n",
            "ecuador          1\n",
            "due              1\n",
            "dry              1\n",
            "division         1\n",
            "depression       1\n",
            "del              1\n",
            "country          1\n",
            "cordillera       1\n",
            "height           1\n",
            "Name: 0, dtype: int64\n"
          ]
        },
        {
          "output_type": "stream",
          "name": "stderr",
          "text": [
            "/usr/local/lib/python3.7/dist-packages/sklearn/utils/deprecation.py:87: FutureWarning: Function get_feature_names is deprecated; get_feature_names is deprecated in 1.0 and will be removed in 1.2. Please use get_feature_names_out instead.\n",
            "  warnings.warn(msg, category=FutureWarning)\n"
          ]
        }
      ]
    },
    {
      "cell_type": "markdown",
      "source": [
        "## Stemming with NLTK"
      ],
      "metadata": {
        "id": "Ambi-joIqmow"
      }
    },
    {
      "cell_type": "markdown",
      "source": [
        "1. Let's define a function that takes a stemmer and a list of words, and print each word next to its stemmed version. All the stemmers provided by NLTK have a function called stem()"
      ],
      "metadata": {
        "id": "u4H997Udr_MP"
      }
    },
    {
      "cell_type": "code",
      "source": [
        "def stemWords(words, stemmer):\n",
        "  for word in words:\n",
        "    stemmedWord = stemmer.stem(word)\n",
        "    print(word,\"--->\",stemmedWord)"
      ],
      "metadata": {
        "id": "qCV6FGCaq7rD"
      },
      "execution_count": null,
      "outputs": []
    },
    {
      "cell_type": "markdown",
      "source": [
        "2. Test Porter Stemmer with two different examples"
      ],
      "metadata": {
        "id": "TtVVh71tsHQb"
      }
    },
    {
      "cell_type": "code",
      "source": [
        "from nltk.stem import PorterStemmer\n",
        "\n",
        "porter = PorterStemmer()\n",
        "\n",
        "print('Testing Porter Stemmer:\\n')\n",
        "\n",
        "words = ['Connects','Connecting','Connections','Connected','Connection','Connectings','Connect']\n",
        "\n",
        "stemWords(words, porter)\n",
        "\n",
        "print('\\nTesting Porter Stemmer:\\n')\n",
        "\n",
        "words = ['generous','generate','generously','generation']\n",
        "\n",
        "stemWords(words, porter)"
      ],
      "metadata": {
        "colab": {
          "base_uri": "https://localhost:8080/"
        },
        "id": "bR5e_GPLqpth",
        "outputId": "97dd5466-eb90-44c6-b852-b0c5a495841e"
      },
      "execution_count": null,
      "outputs": [
        {
          "output_type": "stream",
          "name": "stdout",
          "text": [
            "Testing Porter Stemmer:\n",
            "\n",
            "Connects ---> connect\n",
            "Connecting ---> connect\n",
            "Connections ---> connect\n",
            "Connected ---> connect\n",
            "Connection ---> connect\n",
            "Connectings ---> connect\n",
            "Connect ---> connect\n",
            "\n",
            "Testing Porter Stemmer:\n",
            "\n",
            "generous ---> gener\n",
            "generate ---> gener\n",
            "generously ---> gener\n",
            "generation ---> gener\n"
          ]
        }
      ]
    },
    {
      "cell_type": "markdown",
      "source": [
        "3. Test Snowball Stemmer with the same examples"
      ],
      "metadata": {
        "id": "j8_ZRB9xsMq-"
      }
    },
    {
      "cell_type": "code",
      "source": [
        "from nltk.stem import SnowballStemmer\n",
        "\n",
        "snowball = SnowballStemmer(language='english')\n",
        "\n",
        "print('Testing Snowball Stemmer:\\n')\n",
        "\n",
        "words = ['Connects','Connecting','Connections','Connected','Connection','Connectings','Connect']\n",
        "\n",
        "stemWords(words, snowball)\n",
        "\n",
        "print('\\nTesting Snowball Stemmer:\\n')\n",
        "\n",
        "words = ['generous','generate','generously','generation']\n",
        "\n",
        "stemWords(words, snowball)"
      ],
      "metadata": {
        "colab": {
          "base_uri": "https://localhost:8080/"
        },
        "id": "nXzAUoC0qt3G",
        "outputId": "f1ec6d1f-0f74-46aa-b178-67e76956cce0"
      },
      "execution_count": null,
      "outputs": [
        {
          "output_type": "stream",
          "name": "stdout",
          "text": [
            "Testing Snowball Stemmer:\n",
            "\n",
            "Connects ---> connect\n",
            "Connecting ---> connect\n",
            "Connections ---> connect\n",
            "Connected ---> connect\n",
            "Connection ---> connect\n",
            "Connectings ---> connect\n",
            "Connect ---> connect\n",
            "\n",
            "Testing Snowball Stemmer:\n",
            "\n",
            "generous ---> generous\n",
            "generate ---> generat\n",
            "generously ---> generous\n",
            "generation ---> generat\n"
          ]
        }
      ]
    },
    {
      "cell_type": "markdown",
      "source": [
        "4. Test Lancaster Stemmer. This stemmer is famous for executing excesive stemming, this leads to results that are difficult to interpret by humans."
      ],
      "metadata": {
        "id": "Qim25XvZsVEm"
      }
    },
    {
      "cell_type": "code",
      "source": [
        "from nltk.stem import LancasterStemmer\n",
        "\n",
        "lancaster = LancasterStemmer()\n",
        "\n",
        "print('Testing Lancaster Stemmer:\\n')\n",
        "\n",
        "words = ['Connects','Connecting','Connections','Connected','Connection','Connectings','Connect']\n",
        "\n",
        "stemWords(words, lancaster)\n",
        "\n",
        "print('\\nTesting Lancaster Stemmer:\\n')\n",
        "\n",
        "words = ['generous','generate','generously','generation']\n",
        "\n",
        "stemWords(words, lancaster)"
      ],
      "metadata": {
        "colab": {
          "base_uri": "https://localhost:8080/"
        },
        "id": "h38KuBAIqx3k",
        "outputId": "0519ca84-129b-497f-a365-d3ca35f16065"
      },
      "execution_count": null,
      "outputs": [
        {
          "output_type": "stream",
          "name": "stdout",
          "text": [
            "Testing Lancaster Stemmer:\n",
            "\n",
            "Connects ---> connect\n",
            "Connecting ---> connect\n",
            "Connections ---> connect\n",
            "Connected ---> connect\n",
            "Connection ---> connect\n",
            "Connectings ---> connect\n",
            "Connect ---> connect\n",
            "\n",
            "Testing Lancaster Stemmer:\n",
            "\n",
            "generous ---> gen\n",
            "generate ---> gen\n",
            "generously ---> gen\n",
            "generation ---> gen\n"
          ]
        }
      ]
    }
  ]
}